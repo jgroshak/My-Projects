{
 "cells": [
  {
   "cell_type": "code",
   "execution_count": 181,
   "id": "aef96c03-98cf-4326-8469-b77d5c6df209",
   "metadata": {},
   "outputs": [
    {
     "data": {
      "text/plain": [
       "'$10,800,000'"
      ]
     },
     "execution_count": 181,
     "metadata": {},
     "output_type": "execute_result"
    }
   ],
   "source": [
    "import requests\n",
    "from bs4 import BeautifulSoup\n",
    "\n",
    "r = requests.get(\"https://www.royallepage.ca/en/bc/powell-river/properties/\")\n",
    "c = r.content\n",
    "\n",
    "soup = BeautifulSoup(c,\"html.parser\")\n",
    "\n",
    "all = soup.find_all(\"div\",{\"class\":\"card__body\"})\n",
    "\n",
    "all[0].find(\"span\",{\"class\":\"title--h3 price\"}).text\n",
    "\n"
   ]
  },
  {
   "cell_type": "code",
   "execution_count": 205,
   "id": "deefbcad-1732-4abd-96bb-4938dd5a9450",
   "metadata": {},
   "outputs": [
    {
     "name": "stdout",
     "output_type": "stream",
     "text": [
      "1\n",
      "2\n",
      "3\n",
      "4\n",
      "DONE\n"
     ]
    }
   ],
   "source": [
    "l = []\n",
    "\n",
    "\n",
    "base_url = \"https://www.royallepage.ca/en/bc/powell-river/properties/\"\n",
    "\n",
    "page_num = soup.find('div', {'class': 'paginator__pages'})\n",
    "spans = page_num.find_all('span')\n",
    "for span in spans:\n",
    "    pn = span.text\n",
    "\n",
    "    \n",
    "for page in range(1,int(pn)):\n",
    "    base_url + str(page)\n",
    "    r = requests.get(base_url + str(page))\n",
    "    c = r.content\n",
    "    soup = BeautifulSoup(c,\"html.parser\")\n",
    "    all = soup.find_all(\"div\",{\"class\":\"card__body\"})\n",
    "\n",
    "\n",
    "    for item in all:\n",
    "        d = {}\n",
    "        d[\"Price\"] = item.find(\"span\",{\"class\":\"title--h3 price\"}).text\n",
    "        d[\"Address\"] = item.find(\"address\",{\"class\":\"address-1\"}).text\n",
    "        try:\n",
    "            div = soup.find('div', {'class': 'listing-meta listing-meta--small'})\n",
    "            spans = div.find_all('span')\n",
    "            text = div.text\n",
    "            d[\"Property Type\"] = text\n",
    "        except:\n",
    "            d[\"Property Type\"] = \"Commercial\"\n",
    "\n",
    "        l.append(d)\n",
    "\n",
    "\n"
   ]
  },
  {
   "cell_type": "code",
   "execution_count": 209,
   "id": "235e16b6-9865-4b2e-b3eb-c9847710e74b",
   "metadata": {},
   "outputs": [],
   "source": [
    "import pandas\n",
    "df = pandas.DataFrame(l)\n",
    "df.to_csv(\"Powell_River_Listings.csv\", index=False)"
   ]
  },
  {
   "cell_type": "code",
   "execution_count": 207,
   "id": "202ecf98-22d4-4930-bb6d-338ae9adb22a",
   "metadata": {},
   "outputs": [
    {
     "data": {
      "text/html": [
       "<div>\n",
       "<style scoped>\n",
       "    .dataframe tbody tr th:only-of-type {\n",
       "        vertical-align: middle;\n",
       "    }\n",
       "\n",
       "    .dataframe tbody tr th {\n",
       "        vertical-align: top;\n",
       "    }\n",
       "\n",
       "    .dataframe thead th {\n",
       "        text-align: right;\n",
       "    }\n",
       "</style>\n",
       "<table border=\"1\" class=\"dataframe\">\n",
       "  <thead>\n",
       "    <tr style=\"text-align: right;\">\n",
       "      <th></th>\n",
       "      <th>Price</th>\n",
       "      <th>Address</th>\n",
       "      <th>Property Type</th>\n",
       "    </tr>\n",
       "  </thead>\n",
       "  <tbody>\n",
       "    <tr>\n",
       "      <th>0</th>\n",
       "      <td>$10,800,000</td>\n",
       "      <td>7105 Kemano Street</td>\n",
       "      <td>Commercial</td>\n",
       "    </tr>\n",
       "    <tr>\n",
       "      <th>1</th>\n",
       "      <td>$8,000,000</td>\n",
       "      <td>7373/7385 Duncan Street</td>\n",
       "      <td>Commercial</td>\n",
       "    </tr>\n",
       "    <tr>\n",
       "      <th>2</th>\n",
       "      <td>$399,900</td>\n",
       "      <td>5536/5538 Willow Ave</td>\n",
       "      <td>Commercial</td>\n",
       "    </tr>\n",
       "    <tr>\n",
       "      <th>3</th>\n",
       "      <td>$329,000</td>\n",
       "      <td>8639 Myrtle Point Road</td>\n",
       "      <td>Commercial</td>\n",
       "    </tr>\n",
       "    <tr>\n",
       "      <th>4</th>\n",
       "      <td>$649,900</td>\n",
       "      <td>7190 Glacier Street</td>\n",
       "      <td>Commercial</td>\n",
       "    </tr>\n",
       "    <tr>\n",
       "      <th>...</th>\n",
       "      <td>...</td>\n",
       "      <td>...</td>\n",
       "      <td>...</td>\n",
       "    </tr>\n",
       "    <tr>\n",
       "      <th>133</th>\n",
       "      <td>$349,000.00 /sq. ft.</td>\n",
       "      <td>2-7020 Tofino Street</td>\n",
       "      <td>House 2 bds , 1 bath</td>\n",
       "    </tr>\n",
       "    <tr>\n",
       "      <th>134</th>\n",
       "      <td>$899,000</td>\n",
       "      <td>302-7020 Tofino Street</td>\n",
       "      <td>House 2 bds , 1 bath</td>\n",
       "    </tr>\n",
       "    <tr>\n",
       "      <th>135</th>\n",
       "      <td>$849,000</td>\n",
       "      <td>103-7020 Tofino Street</td>\n",
       "      <td>House 2 bds , 1 bath</td>\n",
       "    </tr>\n",
       "    <tr>\n",
       "      <th>136</th>\n",
       "      <td>$849,000</td>\n",
       "      <td>203-7020 Tofino Street</td>\n",
       "      <td>House 2 bds , 1 bath</td>\n",
       "    </tr>\n",
       "    <tr>\n",
       "      <th>137</th>\n",
       "      <td>$799,000</td>\n",
       "      <td>301-7020 Tofino Street</td>\n",
       "      <td>House 2 bds , 1 bath</td>\n",
       "    </tr>\n",
       "  </tbody>\n",
       "</table>\n",
       "<p>138 rows × 3 columns</p>\n",
       "</div>"
      ],
      "text/plain": [
       "                    Price                  Address         Property Type\n",
       "0             $10,800,000       7105 Kemano Street           Commercial \n",
       "1              $8,000,000  7373/7385 Duncan Street           Commercial \n",
       "2                $399,900     5536/5538 Willow Ave           Commercial \n",
       "3                $329,000   8639 Myrtle Point Road           Commercial \n",
       "4                $649,900      7190 Glacier Street           Commercial \n",
       "..                    ...                      ...                   ...\n",
       "133  $349,000.00 /sq. ft.     2-7020 Tofino Street  House 2 bds , 1 bath\n",
       "134              $899,000   302-7020 Tofino Street  House 2 bds , 1 bath\n",
       "135              $849,000   103-7020 Tofino Street  House 2 bds , 1 bath\n",
       "136              $849,000   203-7020 Tofino Street  House 2 bds , 1 bath\n",
       "137              $799,000   301-7020 Tofino Street  House 2 bds , 1 bath\n",
       "\n",
       "[138 rows x 3 columns]"
      ]
     },
     "execution_count": 207,
     "metadata": {},
     "output_type": "execute_result"
    }
   ],
   "source": [
    "df"
   ]
  },
  {
   "cell_type": "code",
   "execution_count": 164,
   "id": "83b83144-c382-43ad-aabf-451621b75845",
   "metadata": {},
   "outputs": [
    {
     "name": "stdout",
     "output_type": "stream",
     "text": [
      "1\n",
      "2\n",
      "3\n",
      "4\n"
     ]
    }
   ],
   "source": [
    "page_num = soup.find('div', {'class': 'paginator__pages'})\n",
    "spans = page_num.find_all('span')\n",
    "for span in spans:\n",
    "    print(span.text)\n",
    "    "
   ]
  },
  {
   "cell_type": "code",
   "execution_count": null,
   "id": "824592a8-cea6-448e-bccf-e92715a8d071",
   "metadata": {},
   "outputs": [],
   "source": []
  }
 ],
 "metadata": {
  "kernelspec": {
   "display_name": "Python 3 (ipykernel)",
   "language": "python",
   "name": "python3"
  },
  "language_info": {
   "codemirror_mode": {
    "name": "ipython",
    "version": 3
   },
   "file_extension": ".py",
   "mimetype": "text/x-python",
   "name": "python",
   "nbconvert_exporter": "python",
   "pygments_lexer": "ipython3",
   "version": "3.9.12"
  }
 },
 "nbformat": 4,
 "nbformat_minor": 5
}
