{
 "cells": [
  {
   "cell_type": "markdown",
   "id": "e4a78fed-8eac-4330-8213-f4bce759518d",
   "metadata": {},
   "source": [
    "# List of Analysis Objectives\n",
    "\n",
    "### 1. Descriptive Statistics - Correlations, Max/Min Values, Ranking Metric\n",
    "### 2. Inferential Statistics - Distribution testing, Hypothesis testing, Best-fit Modeling"
   ]
  },
  {
   "cell_type": "markdown",
   "id": "9f355a3a-0b49-4069-b295-3a7bfb3497b7",
   "metadata": {},
   "source": [
    "---"
   ]
  },
  {
   "cell_type": "markdown",
   "id": "2b6ba742-254a-4259-9dca-2fb964c8bd77",
   "metadata": {
    "tags": []
   },
   "source": [
    "# Descriptive Stats"
   ]
  },
  {
   "cell_type": "markdown",
   "id": "94b1dacd-b091-4473-994f-068e40a29d24",
   "metadata": {},
   "source": [
    "### Importing the data"
   ]
  },
  {
   "cell_type": "code",
   "execution_count": 1,
   "id": "b15a8741-f214-40b5-b730-8db8694d25b2",
   "metadata": {
    "tags": []
   },
   "outputs": [
    {
     "name": "stdout",
     "output_type": "stream",
     "text": [
      "(1000, 12)\n"
     ]
    },
    {
     "data": {
      "text/html": [
       "<div>\n",
       "<style scoped>\n",
       "    .dataframe tbody tr th:only-of-type {\n",
       "        vertical-align: middle;\n",
       "    }\n",
       "\n",
       "    .dataframe tbody tr th {\n",
       "        vertical-align: top;\n",
       "    }\n",
       "\n",
       "    .dataframe thead th {\n",
       "        text-align: right;\n",
       "    }\n",
       "</style>\n",
       "<table border=\"1\" class=\"dataframe\">\n",
       "  <thead>\n",
       "    <tr style=\"text-align: right;\">\n",
       "      <th></th>\n",
       "      <th>Rank</th>\n",
       "      <th>Title</th>\n",
       "      <th>Genre</th>\n",
       "      <th>Description</th>\n",
       "      <th>Director</th>\n",
       "      <th>Actors</th>\n",
       "      <th>Year</th>\n",
       "      <th>Runtime (Minutes)</th>\n",
       "      <th>Rating</th>\n",
       "      <th>Votes</th>\n",
       "      <th>Revenue (Millions)</th>\n",
       "      <th>Metascore</th>\n",
       "    </tr>\n",
       "  </thead>\n",
       "  <tbody>\n",
       "    <tr>\n",
       "      <th>0</th>\n",
       "      <td>1</td>\n",
       "      <td>Guardians of the Galaxy</td>\n",
       "      <td>Action,Adventure,Sci-Fi</td>\n",
       "      <td>A group of intergalactic criminals are forced ...</td>\n",
       "      <td>James Gunn</td>\n",
       "      <td>Chris Pratt, Vin Diesel, Bradley Cooper, Zoe S...</td>\n",
       "      <td>2014</td>\n",
       "      <td>121</td>\n",
       "      <td>8.1</td>\n",
       "      <td>757074</td>\n",
       "      <td>333.13</td>\n",
       "      <td>76.0</td>\n",
       "    </tr>\n",
       "    <tr>\n",
       "      <th>1</th>\n",
       "      <td>2</td>\n",
       "      <td>Prometheus</td>\n",
       "      <td>Adventure,Mystery,Sci-Fi</td>\n",
       "      <td>Following clues to the origin of mankind, a te...</td>\n",
       "      <td>Ridley Scott</td>\n",
       "      <td>Noomi Rapace, Logan Marshall-Green, Michael Fa...</td>\n",
       "      <td>2012</td>\n",
       "      <td>124</td>\n",
       "      <td>7.0</td>\n",
       "      <td>485820</td>\n",
       "      <td>126.46</td>\n",
       "      <td>65.0</td>\n",
       "    </tr>\n",
       "    <tr>\n",
       "      <th>2</th>\n",
       "      <td>3</td>\n",
       "      <td>Split</td>\n",
       "      <td>Horror,Thriller</td>\n",
       "      <td>Three girls are kidnapped by a man with a diag...</td>\n",
       "      <td>M. Night Shyamalan</td>\n",
       "      <td>James McAvoy, Anya Taylor-Joy, Haley Lu Richar...</td>\n",
       "      <td>2016</td>\n",
       "      <td>117</td>\n",
       "      <td>7.3</td>\n",
       "      <td>157606</td>\n",
       "      <td>138.12</td>\n",
       "      <td>62.0</td>\n",
       "    </tr>\n",
       "    <tr>\n",
       "      <th>3</th>\n",
       "      <td>4</td>\n",
       "      <td>Sing</td>\n",
       "      <td>Animation,Comedy,Family</td>\n",
       "      <td>In a city of humanoid animals, a hustling thea...</td>\n",
       "      <td>Christophe Lourdelet</td>\n",
       "      <td>Matthew McConaughey,Reese Witherspoon, Seth Ma...</td>\n",
       "      <td>2016</td>\n",
       "      <td>108</td>\n",
       "      <td>7.2</td>\n",
       "      <td>60545</td>\n",
       "      <td>270.32</td>\n",
       "      <td>59.0</td>\n",
       "    </tr>\n",
       "    <tr>\n",
       "      <th>4</th>\n",
       "      <td>5</td>\n",
       "      <td>Suicide Squad</td>\n",
       "      <td>Action,Adventure,Fantasy</td>\n",
       "      <td>A secret government agency recruits some of th...</td>\n",
       "      <td>David Ayer</td>\n",
       "      <td>Will Smith, Jared Leto, Margot Robbie, Viola D...</td>\n",
       "      <td>2016</td>\n",
       "      <td>123</td>\n",
       "      <td>6.2</td>\n",
       "      <td>393727</td>\n",
       "      <td>325.02</td>\n",
       "      <td>40.0</td>\n",
       "    </tr>\n",
       "  </tbody>\n",
       "</table>\n",
       "</div>"
      ],
      "text/plain": [
       "   Rank                    Title                     Genre  \\\n",
       "0     1  Guardians of the Galaxy   Action,Adventure,Sci-Fi   \n",
       "1     2               Prometheus  Adventure,Mystery,Sci-Fi   \n",
       "2     3                    Split           Horror,Thriller   \n",
       "3     4                     Sing   Animation,Comedy,Family   \n",
       "4     5            Suicide Squad  Action,Adventure,Fantasy   \n",
       "\n",
       "                                         Description              Director  \\\n",
       "0  A group of intergalactic criminals are forced ...            James Gunn   \n",
       "1  Following clues to the origin of mankind, a te...          Ridley Scott   \n",
       "2  Three girls are kidnapped by a man with a diag...    M. Night Shyamalan   \n",
       "3  In a city of humanoid animals, a hustling thea...  Christophe Lourdelet   \n",
       "4  A secret government agency recruits some of th...            David Ayer   \n",
       "\n",
       "                                              Actors  Year  Runtime (Minutes)  \\\n",
       "0  Chris Pratt, Vin Diesel, Bradley Cooper, Zoe S...  2014                121   \n",
       "1  Noomi Rapace, Logan Marshall-Green, Michael Fa...  2012                124   \n",
       "2  James McAvoy, Anya Taylor-Joy, Haley Lu Richar...  2016                117   \n",
       "3  Matthew McConaughey,Reese Witherspoon, Seth Ma...  2016                108   \n",
       "4  Will Smith, Jared Leto, Margot Robbie, Viola D...  2016                123   \n",
       "\n",
       "   Rating   Votes  Revenue (Millions)  Metascore  \n",
       "0     8.1  757074              333.13       76.0  \n",
       "1     7.0  485820              126.46       65.0  \n",
       "2     7.3  157606              138.12       62.0  \n",
       "3     7.2   60545              270.32       59.0  \n",
       "4     6.2  393727              325.02       40.0  "
      ]
     },
     "execution_count": 1,
     "metadata": {},
     "output_type": "execute_result"
    }
   ],
   "source": [
    "import pandas as pd\n",
    "import seaborn as sns\n",
    "\n",
    "df = pd.read_csv(\"IMDB-Movie-Data.csv\")\n",
    "print(df.shape)\n",
    "df.head()\n"
   ]
  },
  {
   "cell_type": "markdown",
   "id": "082887ac-2c54-448d-bef3-ffa25bf65653",
   "metadata": {},
   "source": [
    "### Which movie have the longest and shortest runtime?"
   ]
  },
  {
   "cell_type": "code",
   "execution_count": 2,
   "id": "4f54ff24-5b08-4408-bd04-ce620fd0f950",
   "metadata": {},
   "outputs": [
    {
     "name": "stdout",
     "output_type": "stream",
     "text": [
      "Longest Movie\n",
      "\n",
      "Rank                                                                829\n",
      "Title                                                        Grindhouse\n",
      "Genre                                            Action,Horror,Thriller\n",
      "Description           Quentin Tarantino and Robert Rodriguez's homag...\n",
      "Director                                               Robert Rodriguez\n",
      "Actors                Kurt Russell, Rose McGowan, Danny Trejo, Zoë Bell\n",
      "Year                                                               2007\n",
      "Runtime (Minutes)                                                   191\n",
      "Rating                                                              7.6\n",
      "Votes                                                            160350\n",
      "Revenue (Millions)                                                25.03\n",
      "Metascore                                                           NaN\n",
      "Name: 828, dtype: object\n",
      "\n",
      "Shortest Movie\n",
      "\n",
      "Rank                                                                794\n",
      "Title                                               Ma vie de Courgette\n",
      "Genre                                            Animation,Comedy,Drama\n",
      "Description           After losing his mother, a young boy is sent t...\n",
      "Director                                                  Claude Barras\n",
      "Actors                Gaspard Schlatter, Sixtine Murat, Paulin Jacco...\n",
      "Year                                                               2016\n",
      "Runtime (Minutes)                                                    66\n",
      "Rating                                                              7.8\n",
      "Votes                                                              4370\n",
      "Revenue (Millions)                                                 0.29\n",
      "Metascore                                                          85.0\n",
      "Name: 793, dtype: object\n"
     ]
    },
    {
     "data": {
      "image/png": "[encoded data removed]",
      "text/plain": [
       "<Figure size 432x288 with 1 Axes>"
      ]
     },
     "metadata": {
      "needs_background": "light"
     },
     "output_type": "display_data"
    }
   ],
   "source": [
    "sns.histplot(df['Runtime (Minutes)']).set(title='Runtimes')\n",
    "print(\"Longest Movie\",df.loc[df['Runtime (Minutes)'].idxmax()],\"Shortest Movie\",\n",
    "      df.loc[df['Runtime (Minutes)'].idxmin()],sep=\"\\n\\n\")"
   ]
  },
  {
   "cell_type": "markdown",
   "id": "158dc715-2574-412c-b1c2-ff6e4ed7971e",
   "metadata": {},
   "source": [
    "### What movies are the highest and lowest grossing?"
   ]
  },
  {
   "cell_type": "code",
   "execution_count": 3,
   "id": "7cd96b9e-ef0e-4f7f-bbe6-72647b2aa103",
   "metadata": {},
   "outputs": [
    {
     "name": "stdout",
     "output_type": "stream",
     "text": [
      "Highest Grossing\n",
      "\n",
      "Rank                                                                 51\n",
      "Title                        Star Wars: Episode VII - The Force Awakens\n",
      "Genre                                          Action,Adventure,Fantasy\n",
      "Description           Three decades after the defeat of the Galactic...\n",
      "Director                                                    J.J. Abrams\n",
      "Actors                Daisy Ridley, John Boyega, Oscar Isaac, Domhna...\n",
      "Year                                                               2015\n",
      "Runtime (Minutes)                                                   136\n",
      "Rating                                                              8.1\n",
      "Votes                                                            661608\n",
      "Revenue (Millions)                                               936.63\n",
      "Metascore                                                          81.0\n",
      "Name: 50, dtype: object\n",
      "\n",
      "Lowest Grossing\n",
      "\n",
      "Rank                                                                232\n",
      "Title                                                  A Kind of Murder\n",
      "Genre                                              Crime,Drama,Thriller\n",
      "Description           In 1960s New York, Walter Stackhouse is a succ...\n",
      "Director                                                   Andy Goddard\n",
      "Actors                Patrick Wilson, Jessica Biel, Haley Bennett, V...\n",
      "Year                                                               2016\n",
      "Runtime (Minutes)                                                    95\n",
      "Rating                                                              5.2\n",
      "Votes                                                              3305\n",
      "Revenue (Millions)                                                  0.0\n",
      "Metascore                                                          50.0\n",
      "Name: 231, dtype: object\n"
     ]
    },
    {
     "data": {
      "image/png": "[encoded data removed]",
      "text/plain": [
       "<Figure size 432x288 with 1 Axes>"
      ]
     },
     "metadata": {
      "needs_background": "light"
     },
     "output_type": "display_data"
    }
   ],
   "source": [
    "sns.histplot(df['Revenue (Millions)']).set(title='Movie Revenue Distribution')\n",
    "print(\"Highest Grossing\",df.loc[df['Revenue (Millions)'].idxmax()],\"Lowest Grossing\",\n",
    "df.loc[df['Revenue (Millions)'].idxmin()],sep=\"\\n\\n\")"
   ]
  },
  {
   "cell_type": "markdown",
   "id": "f10c2bc9-d250-431b-b433-9abcd71c2a2f",
   "metadata": {},
   "source": [
    "## Cleaning the data"
   ]
  },
  {
   "cell_type": "code",
   "execution_count": 4,
   "id": "1881666d-dc34-429a-94f7-e316153fc25d",
   "metadata": {},
   "outputs": [
    {
     "name": "stdout",
     "output_type": "stream",
     "text": [
      "0\n"
     ]
    },
    {
     "data": {
      "text/plain": [
       "Rank                    0\n",
       "Title                   0\n",
       "Genre                   0\n",
       "Description             0\n",
       "Director                0\n",
       "Actors                  0\n",
       "Year                    0\n",
       "Runtime (Minutes)       0\n",
       "Rating                  0\n",
       "Votes                   0\n",
       "Revenue (Millions)    128\n",
       "Metascore              64\n",
       "dtype: int64"
      ]
     },
     "execution_count": 4,
     "metadata": {},
     "output_type": "execute_result"
    }
   ],
   "source": [
    "# Check for any duplicated movies\n",
    "print(df.duplicated().sum())\n",
    "\n",
    "# What values are missing and how many?\n",
    "df.isnull().sum()"
   ]
  },
  {
   "cell_type": "markdown",
   "id": "21607821-824d-4859-b370-1ccc730adc34",
   "metadata": {},
   "source": [
    "### METHOD 1: Drop the rows with missing data"
   ]
  },
  {
   "cell_type": "code",
   "execution_count": 5,
   "id": "47da6770-bc22-45f4-ab42-8fc68a8b499f",
   "metadata": {},
   "outputs": [
    {
     "data": {
      "text/plain": [
       "Rank                  0\n",
       "Title                 0\n",
       "Genre                 0\n",
       "Description           0\n",
       "Director              0\n",
       "Actors                0\n",
       "Year                  0\n",
       "Runtime (Minutes)     0\n",
       "Rating                0\n",
       "Votes                 0\n",
       "Revenue (Millions)    0\n",
       "Metascore             0\n",
       "dtype: int64"
      ]
     },
     "execution_count": 5,
     "metadata": {},
     "output_type": "execute_result"
    }
   ],
   "source": [
    "df_drop = df.dropna(how = 'any')\n",
    "df_drop.isnull().sum()"
   ]
  },
  {
   "cell_type": "markdown",
   "id": "7ed72d1c-a3c8-4aa6-9212-e86255a73a1e",
   "metadata": {},
   "source": [
    "### METHOD 2: Replace values in the rows with missing data"
   ]
  },
  {
   "cell_type": "code",
   "execution_count": 6,
   "id": "549b9d76-d102-4ed6-ac48-11be21f937ce",
   "metadata": {},
   "outputs": [
    {
     "name": "stdout",
     "output_type": "stream",
     "text": [
      "Rank                  0\n",
      "Title                 0\n",
      "Genre                 0\n",
      "Description           0\n",
      "Director              0\n",
      "Actors                0\n",
      "Year                  0\n",
      "Runtime (Minutes)     0\n",
      "Rating                0\n",
      "Votes                 0\n",
      "Revenue (Millions)    0\n",
      "Metascore             0\n",
      "dtype: int64\n"
     ]
    }
   ],
   "source": [
    "df_replace = df\n",
    "df_replace['Metascore'] = df_replace['Metascore'].fillna((df_replace['Metascore'].mean()))\n",
    "df_replace['Revenue (Millions)'] = df_replace['Revenue (Millions)'].fillna((df_replace['Revenue (Millions)'].mean()))\n",
    "print(df_replace.isna().sum())\n"
   ]
  },
  {
   "cell_type": "markdown",
   "id": "2859b71d-9f51-473f-9441-37d4842a150a",
   "metadata": {},
   "source": [
    "## Removing outliers from the 'Votes' cast"
   ]
  },
  {
   "cell_type": "markdown",
   "id": "d8aab762-5946-4093-bdc6-2c91bfbc25a0",
   "metadata": {},
   "source": [
    "### METHOD 1: Using Z-score"
   ]
  },
  {
   "cell_type": "code",
   "execution_count": 7,
   "id": "92bdbba2-6a4f-473c-bc4d-8bcd40a7ac6a",
   "metadata": {},
   "outputs": [
    {
     "name": "stdout",
     "output_type": "stream",
     "text": [
      "(826, 12) (985, 12)\n"
     ]
    }
   ],
   "source": [
    "import numpy as np\n",
    "from scipy import stats\n",
    "\n",
    "# Using the df with dropped data\n",
    "df_drop_z = df_drop[(np.abs(stats.zscore(df_drop.Votes)) < 3)]\n",
    "\n",
    "# Using the df with replaced data\n",
    "df_rep_z = df_replace[(np.abs(stats.zscore(df_replace.Votes)) < 3)]\n",
    "\n",
    "print(df_drop_z.shape,\n",
    "df_rep_z.shape)\n"
   ]
  },
  {
   "cell_type": "markdown",
   "id": "0cd80b2b-807b-4484-b8c5-2020e835a21e",
   "metadata": {},
   "source": [
    "### METHOD 2: Using Quantiles"
   ]
  },
  {
   "cell_type": "code",
   "execution_count": 8,
   "id": "a5ff2b55-1713-4ab2-8ab8-e9524cbbaea8",
   "metadata": {},
   "outputs": [
    {
     "name": "stdout",
     "output_type": "stream",
     "text": [
      "(820, 12) (980, 12)\n"
     ]
    }
   ],
   "source": [
    "# Using the df with dropped data\n",
    "q_low = df_drop[\"Votes\"].quantile(0.01)\n",
    "q_hi  = df_drop[\"Votes\"].quantile(0.99)\n",
    "\n",
    "# filtering outliers\n",
    "df_drop_fil = df_drop[(df_drop[\"Votes\"] < q_hi) & (df_drop[\"Votes\"] > q_low)]\n",
    "\n",
    "\n",
    "\n",
    "# Using the df with replaced data\n",
    "q_low = df_replace[\"Votes\"].quantile(0.01)\n",
    "q_hi  = df_replace[\"Votes\"].quantile(0.99)\n",
    "\n",
    "# filtering outliers\n",
    "df_rep_fil = df_replace[(df_replace[\"Votes\"] < q_hi) & (df_replace[\"Votes\"] > q_low)]\n",
    "\n",
    "\n",
    "# Compare the results\n",
    "print(df_drop_fil.shape,\n",
    "      df_rep_fil.shape)\n"
   ]
  },
  {
   "cell_type": "markdown",
   "id": "6742c086-1b3e-4cfe-97b3-7ebffad9d57a",
   "metadata": {
    "tags": []
   },
   "source": [
    "<p style=\"text-align: center;\"> Renaming the 4 resulting dataframes statistics</p>"
   ]
  },
  {
   "cell_type": "markdown",
   "id": "746308b7-a748-45f0-b1ae-d14ef2ea86c0",
   "metadata": {},
   "source": [
    "|  | Missing Data  | Outliers |\n",
    "| ----------- | ----------- | ----------- |\n",
    "| DF1 | Drop | Z-score |\n",
    "| DF2 | Replace | Z-score |\n",
    "| DF3 | Drop | Quantiles |\n",
    "| DF4 | Replace | Quantiles |"
   ]
  },
  {
   "cell_type": "code",
   "execution_count": 9,
   "id": "09ab65c1-955f-45e7-82cc-2789a475b22b",
   "metadata": {},
   "outputs": [],
   "source": [
    "DF1 = df_drop_z\n",
    "DF2 = df_rep_z\n",
    "DF3 = df_drop_fil\n",
    "DF4 = df_rep_fil"
   ]
  },
  {
   "cell_type": "markdown",
   "id": "e75c1f60-2777-4f42-9764-1bd7664694ce",
   "metadata": {},
   "source": [
    "When comparing the resulting dataframes from each cleaning method, there is only two significant difference - the ranking of movies is different "
   ]
  },
  {
   "cell_type": "code",
   "execution_count": 22,
   "id": "b332f3a5-5d25-4742-92c6-25b76dd7a961",
   "metadata": {},
   "outputs": [
    {
     "name": "stdout",
     "output_type": "stream",
     "text": [
      "    Rank                                    Title\n",
      "0      1                  Guardians of the Galaxy\n",
      "1      2                               Prometheus\n",
      "2      3                                    Split\n",
      "3      4                                     Sing\n",
      "4      5                            Suicide Squad\n",
      "5      6                           The Great Wall\n",
      "6      7                               La La Land\n",
      "8      9                       The Lost City of Z\n",
      "9     10                               Passengers\n",
      "10    11  Fantastic Beasts and Where to Find Them\n",
      "11    12                           Hidden Figures\n",
      "12    13                                Rogue One\n",
      "13    14                                    Moana\n",
      "14    15                                 Colossal\n",
      "15    16                  The Secret Life of Pets\n",
      "16    17                            Hacksaw Ridge\n",
      "17    18                             Jason Bourne\n",
      "18    19                                     Lion\n",
      "19    20                                  Arrival \n",
      "\n",
      "    Rank                                    Title\n",
      "1      2                               Prometheus\n",
      "2      3                                    Split\n",
      "3      4                                     Sing\n",
      "4      5                            Suicide Squad\n",
      "5      6                           The Great Wall\n",
      "6      7                               La La Land\n",
      "7      8                                 Mindhorn\n",
      "8      9                       The Lost City of Z\n",
      "9     10                               Passengers\n",
      "10    11  Fantastic Beasts and Where to Find Them\n",
      "11    12                           Hidden Figures\n",
      "12    13                                Rogue One\n",
      "13    14                                    Moana\n",
      "14    15                                 Colossal\n",
      "15    16                  The Secret Life of Pets\n",
      "16    17                            Hacksaw Ridge\n",
      "17    18                             Jason Bourne\n",
      "18    19                                     Lion\n",
      "19    20                                  Arrival \n",
      "\n",
      "    Rank                                    Title\n",
      "0      1                  Guardians of the Galaxy\n",
      "1      2                               Prometheus\n",
      "2      3                                    Split\n",
      "3      4                                     Sing\n",
      "4      5                            Suicide Squad\n",
      "5      6                           The Great Wall\n",
      "6      7                               La La Land\n",
      "8      9                       The Lost City of Z\n",
      "9     10                               Passengers\n",
      "10    11  Fantastic Beasts and Where to Find Them\n",
      "11    12                           Hidden Figures\n",
      "12    13                                Rogue One\n",
      "13    14                                    Moana\n",
      "14    15                                 Colossal\n",
      "15    16                  The Secret Life of Pets\n",
      "16    17                            Hacksaw Ridge\n",
      "17    18                             Jason Bourne\n",
      "18    19                                     Lion\n",
      "19    20                                  Arrival \n",
      "\n",
      "    Rank                                    Title\n",
      "0      1                  Guardians of the Galaxy\n",
      "1      2                               Prometheus\n",
      "2      3                                    Split\n",
      "3      4                                     Sing\n",
      "4      5                            Suicide Squad\n",
      "5      6                           The Great Wall\n",
      "6      7                               La La Land\n",
      "7      8                                 Mindhorn\n",
      "8      9                       The Lost City of Z\n",
      "9     10                               Passengers\n",
      "10    11  Fantastic Beasts and Where to Find Them\n",
      "11    12                           Hidden Figures\n",
      "12    13                                Rogue One\n",
      "13    14                                    Moana\n",
      "14    15                                 Colossal\n",
      "15    16                  The Secret Life of Pets\n",
      "16    17                            Hacksaw Ridge\n",
      "17    18                             Jason Bourne\n",
      "18    19                                     Lion\n"
     ]
    }
   ],
   "source": [
    "DF1a = DF1[['Rank', 'Title']]\n",
    "print(DF1a.head(n=19),'\\n')\n",
    "\n",
    "DF2a = DF2[['Rank', 'Title']]\n",
    "print(DF2a.head(n=19),'\\n')\n",
    "\n",
    "DF3a = DF3[['Rank', 'Title']]\n",
    "print(DF3a.head(n=19),'\\n')\n",
    "\n",
    "DF4a = DF4[['Rank', 'Title']]\n",
    "print(DF4a.head(n=19))"
   ]
  },
  {
   "cell_type": "markdown",
   "id": "216dc9a8-958a-437a-9666-3fb2957367a6",
   "metadata": {},
   "source": [
    "And second - the number of 'Votes', however this diffence does not affect the 'Rating' nor the 'Metascore'"
   ]
  },
  {
   "cell_type": "code",
   "execution_count": null,
   "id": "b8e77e88-abc6-495c-8e84-0418c027b3bd",
   "metadata": {},
   "outputs": [],
   "source": [
    "print(DF1[\"Votes\"].describe(),\n",
    "DF2[\"Votes\"].describe(),\n",
    "DF3[\"Votes\"].describe(),\n",
    "DF4[\"Votes\"].describe())"
   ]
  },
  {
   "cell_type": "code",
   "execution_count": null,
   "id": "4679211c-7e45-499a-ba28-020eda94eb93",
   "metadata": {},
   "outputs": [],
   "source": [
    "print(DF1[\"Rating\"].describe(),\n",
    "DF2[\"Rating\"].describe(),\n",
    "DF3[\"Rating\"].describe(),\n",
    "DF4[\"Rating\"].describe())"
   ]
  },
  {
   "cell_type": "code",
   "execution_count": null,
   "id": "1579d44e-72ca-46b7-8bf2-72e099ecd09b",
   "metadata": {},
   "outputs": [],
   "source": [
    "print(DF1[\"Metascore\"].describe(),\n",
    "DF2[\"Metascore\"].describe(),\n",
    "DF3[\"Metascore\"].describe(),\n",
    "DF4[\"Metascore\"].describe())"
   ]
  },
  {
   "cell_type": "markdown",
   "id": "8271cd73-9934-4569-9bf7-289dcfcb4854",
   "metadata": {},
   "source": [
    "## For the remainder of this analysis I will choose one of the four dataframes \n",
    "*I chose DF1 (dropped missing values and Z-score for outliers)*\n",
    "____"
   ]
  },
  {
   "cell_type": "markdown",
   "id": "2005d9db-d53b-4639-b2fc-602ca13da62c",
   "metadata": {},
   "source": [
    "### Let's take a look the correlation matrix"
   ]
  },
  {
   "cell_type": "code",
   "execution_count": 37,
   "id": "281e027e-d207-49f9-815e-617c5849ec79",
   "metadata": {},
   "outputs": [
    {
     "data": {
      "text/plain": [
       "<AxesSubplot:>"
      ]
     },
     "execution_count": 37,
     "metadata": {},
     "output_type": "execute_result"
    },
    {
     "data": {
      "image/png": "[encoded data removed]",
      "text/plain": [
       "<Figure size 432x288 with 2 Axes>"
      ]
     },
     "metadata": {
      "needs_background": "light"
     },
     "output_type": "display_data"
    }
   ],
   "source": [
    "corr = DF1.corr()\n",
    "sns.heatmap(corr, cmap=\"Blues\", annot=True)"
   ]
  },
  {
   "cell_type": "markdown",
   "id": "3390c011-3e7f-43da-8415-8ba1a5ce62ce",
   "metadata": {},
   "source": [
    "Most of these correlation coefficients make sense. High-grossing movies have more votes cast and more votes cast lead to ratings closer to the average. Also movies that recieve a certain metascore, recieve a similar rating\n",
    "\n",
    "What are more interesting are the following correlations:"
   ]
  },
  {
   "cell_type": "markdown",
   "id": "57371e3c-0bc1-4839-b78d-b80333b75129",
   "metadata": {},
   "source": [
    "### The correlation between year and votes"
   ]
  },
  {
   "cell_type": "code",
   "execution_count": 38,
   "id": "8e60afed-ef30-4c3c-83c4-08ef6e4bfdfd",
   "metadata": {},
   "outputs": [
    {
     "data": {
      "text/plain": [
       "-0.38721257108101337"
      ]
     },
     "execution_count": 38,
     "metadata": {},
     "output_type": "execute_result"
    }
   ],
   "source": [
    "DF1['Year'].corr(DF1['Votes'])"
   ]
  },
  {
   "cell_type": "markdown",
   "id": "e4d8e1bf-ed2d-42f0-a730-71491e4107f2",
   "metadata": {},
   "source": [
    "Maybe it's the case that less people are actively voting on IMDB as time goes on"
   ]
  },
  {
   "cell_type": "markdown",
   "id": "b19fb6c2-212a-4f6e-b073-ecd76b5da673",
   "metadata": {
    "tags": []
   },
   "source": [
    "### The correlation between runtime and rating/votes"
   ]
  },
  {
   "cell_type": "code",
   "execution_count": 39,
   "id": "6db127a5-4db0-4979-b509-b0f0c3a79c48",
   "metadata": {},
   "outputs": [
    {
     "name": "stdout",
     "output_type": "stream",
     "text": [
      "0.3392752303169184\n",
      "0.3259673333000194\n"
     ]
    }
   ],
   "source": [
    "print(DF1[\"Runtime (Minutes)\"].corr(DF1[\"Rating\"]),\n",
    "      DF1[\"Runtime (Minutes)\"].corr(DF1[\"Votes\"]),sep=\"\\n\")"
   ]
  },
  {
   "cell_type": "markdown",
   "id": "6bdcc313-83f8-4da2-8a7e-e28ce11d4091",
   "metadata": {},
   "source": [
    "Could be just a coincidence, but longer movies appear to recieve more votes and higher ratings"
   ]
  },
  {
   "cell_type": "markdown",
   "id": "d7c4b156-a14c-4057-bbd7-84588b2ca862",
   "metadata": {},
   "source": [
    "### Not as statistically significant, but also runtime and revenue"
   ]
  },
  {
   "cell_type": "code",
   "execution_count": 41,
   "id": "5bca6b49-cbf7-4f52-b446-ff68faf729f7",
   "metadata": {},
   "outputs": [
    {
     "data": {
      "text/plain": [
       "0.24069104256470747"
      ]
     },
     "execution_count": 41,
     "metadata": {},
     "output_type": "execute_result"
    }
   ],
   "source": [
    "DF1[\"Runtime (Minutes)\"].corr(DF1[\"Revenue (Millions)\"])    "
   ]
  },
  {
   "cell_type": "markdown",
   "id": "c5cabd71-7afc-4cec-9fd2-5fab2f490794",
   "metadata": {},
   "source": [
    "Most likely just a coincidence, but this would suggest longer movies earn more money on average."
   ]
  },
  {
   "cell_type": "markdown",
   "id": "ebb60834-3c1d-4230-b4c3-d0774e2d6b07",
   "metadata": {},
   "source": [
    "## Create a new ranking metric based on the cleaned data"
   ]
  },
  {
   "cell_type": "markdown",
   "id": "2fa33b6c-a176-431f-9c28-751a3a627859",
   "metadata": {},
   "source": [
    "There are 3 relevant data points when thinking about the rank of a movie:\n",
    "1. The IMDB Rating (Based on Votes)\n",
    "2. Number of Votes\n",
    "3. The metascore - which is a weighted average of top critic reviews from around the internet\n",
    "\n",
    "Let's come up with a Total Average Score based on 'Rating' and 'Metascore', but lets not include the 'Rating' if there are less than 100 votes (ie. base it just on the metascore)"
   ]
  },
  {
   "cell_type": "code",
   "execution_count": 42,
   "id": "927b747d-e2e7-402b-bcdf-1dce17f8da48",
   "metadata": {},
   "outputs": [
    {
     "name": "stdout",
     "output_type": "stream",
     "text": [
      "0\n"
     ]
    }
   ],
   "source": [
    "# Check to see if any votes are less than 100\n",
    "limit = 100\n",
    "column = DF1[\"Votes\"]\n",
    "print(column[column < limit].count())"
   ]
  },
  {
   "cell_type": "code",
   "execution_count": 43,
   "id": "76a83d0e-b42b-4c15-bcad-c40e2c61fea5",
   "metadata": {},
   "outputs": [
    {
     "name": "stderr",
     "output_type": "stream",
     "text": [
      "/var/folders/4t/8pcqqqsd2g3ch1b3_4zqdjxc0000gn/T/ipykernel_48648/576792617.py:2: SettingWithCopyWarning: \n",
      "A value is trying to be set on a copy of a slice from a DataFrame.\n",
      "Try using .loc[row_indexer,col_indexer] = value instead\n",
      "\n",
      "See the caveats in the documentation: https://pandas.pydata.org/pandas-docs/stable/user_guide/indexing.html#returning-a-view-versus-a-copy\n",
      "  DF1[\"Metascore\"] = DF1[\"Metascore\"]/10\n",
      "/var/folders/4t/8pcqqqsd2g3ch1b3_4zqdjxc0000gn/T/ipykernel_48648/576792617.py:3: SettingWithCopyWarning: \n",
      "A value is trying to be set on a copy of a slice from a DataFrame.\n",
      "Try using .loc[row_indexer,col_indexer] = value instead\n",
      "\n",
      "See the caveats in the documentation: https://pandas.pydata.org/pandas-docs/stable/user_guide/indexing.html#returning-a-view-versus-a-copy\n",
      "  DF1[\"Total Average Score\"] = (DF1[\"Metascore\"] + DF1[\"Rating\"])/2\n",
      "/var/folders/4t/8pcqqqsd2g3ch1b3_4zqdjxc0000gn/T/ipykernel_48648/576792617.py:6: SettingWithCopyWarning: \n",
      "A value is trying to be set on a copy of a slice from a DataFrame.\n",
      "Try using .loc[row_indexer,col_indexer] = value instead\n",
      "\n",
      "See the caveats in the documentation: https://pandas.pydata.org/pandas-docs/stable/user_guide/indexing.html#returning-a-view-versus-a-copy\n",
      "  DF1[\"Total Average Score\"] = DF1[\"Total Average Score\"].apply(lambda x: round(x, decimals))\n"
     ]
    },
    {
     "data": {
      "text/html": [
       "<div>\n",
       "<style scoped>\n",
       "    .dataframe tbody tr th:only-of-type {\n",
       "        vertical-align: middle;\n",
       "    }\n",
       "\n",
       "    .dataframe tbody tr th {\n",
       "        vertical-align: top;\n",
       "    }\n",
       "\n",
       "    .dataframe thead th {\n",
       "        text-align: right;\n",
       "    }\n",
       "</style>\n",
       "<table border=\"1\" class=\"dataframe\">\n",
       "  <thead>\n",
       "    <tr style=\"text-align: right;\">\n",
       "      <th></th>\n",
       "      <th>Title</th>\n",
       "      <th>Genre</th>\n",
       "      <th>Description</th>\n",
       "      <th>Director</th>\n",
       "      <th>Actors</th>\n",
       "      <th>Year</th>\n",
       "      <th>Runtime (Minutes)</th>\n",
       "      <th>Rating</th>\n",
       "      <th>Votes</th>\n",
       "      <th>Revenue (Millions)</th>\n",
       "      <th>Metascore</th>\n",
       "      <th>Total Average Score</th>\n",
       "    </tr>\n",
       "  </thead>\n",
       "  <tbody>\n",
       "    <tr>\n",
       "      <th>0</th>\n",
       "      <td>Guardians of the Galaxy</td>\n",
       "      <td>Action,Adventure,Sci-Fi</td>\n",
       "      <td>A group of intergalactic criminals are forced ...</td>\n",
       "      <td>James Gunn</td>\n",
       "      <td>Chris Pratt, Vin Diesel, Bradley Cooper, Zoe S...</td>\n",
       "      <td>2014</td>\n",
       "      <td>121</td>\n",
       "      <td>8.1</td>\n",
       "      <td>757074</td>\n",
       "      <td>333.13</td>\n",
       "      <td>7.6</td>\n",
       "      <td>7.85</td>\n",
       "    </tr>\n",
       "    <tr>\n",
       "      <th>1</th>\n",
       "      <td>Prometheus</td>\n",
       "      <td>Adventure,Mystery,Sci-Fi</td>\n",
       "      <td>Following clues to the origin of mankind, a te...</td>\n",
       "      <td>Ridley Scott</td>\n",
       "      <td>Noomi Rapace, Logan Marshall-Green, Michael Fa...</td>\n",
       "      <td>2012</td>\n",
       "      <td>124</td>\n",
       "      <td>7.0</td>\n",
       "      <td>485820</td>\n",
       "      <td>126.46</td>\n",
       "      <td>6.5</td>\n",
       "      <td>6.75</td>\n",
       "    </tr>\n",
       "    <tr>\n",
       "      <th>2</th>\n",
       "      <td>Split</td>\n",
       "      <td>Horror,Thriller</td>\n",
       "      <td>Three girls are kidnapped by a man with a diag...</td>\n",
       "      <td>M. Night Shyamalan</td>\n",
       "      <td>James McAvoy, Anya Taylor-Joy, Haley Lu Richar...</td>\n",
       "      <td>2016</td>\n",
       "      <td>117</td>\n",
       "      <td>7.3</td>\n",
       "      <td>157606</td>\n",
       "      <td>138.12</td>\n",
       "      <td>6.2</td>\n",
       "      <td>6.75</td>\n",
       "    </tr>\n",
       "    <tr>\n",
       "      <th>3</th>\n",
       "      <td>Sing</td>\n",
       "      <td>Animation,Comedy,Family</td>\n",
       "      <td>In a city of humanoid animals, a hustling thea...</td>\n",
       "      <td>Christophe Lourdelet</td>\n",
       "      <td>Matthew McConaughey,Reese Witherspoon, Seth Ma...</td>\n",
       "      <td>2016</td>\n",
       "      <td>108</td>\n",
       "      <td>7.2</td>\n",
       "      <td>60545</td>\n",
       "      <td>270.32</td>\n",
       "      <td>5.9</td>\n",
       "      <td>6.55</td>\n",
       "    </tr>\n",
       "    <tr>\n",
       "      <th>4</th>\n",
       "      <td>Suicide Squad</td>\n",
       "      <td>Action,Adventure,Fantasy</td>\n",
       "      <td>A secret government agency recruits some of th...</td>\n",
       "      <td>David Ayer</td>\n",
       "      <td>Will Smith, Jared Leto, Margot Robbie, Viola D...</td>\n",
       "      <td>2016</td>\n",
       "      <td>123</td>\n",
       "      <td>6.2</td>\n",
       "      <td>393727</td>\n",
       "      <td>325.02</td>\n",
       "      <td>4.0</td>\n",
       "      <td>5.10</td>\n",
       "    </tr>\n",
       "  </tbody>\n",
       "</table>\n",
       "</div>"
      ],
      "text/plain": [
       "                     Title                     Genre  \\\n",
       "0  Guardians of the Galaxy   Action,Adventure,Sci-Fi   \n",
       "1               Prometheus  Adventure,Mystery,Sci-Fi   \n",
       "2                    Split           Horror,Thriller   \n",
       "3                     Sing   Animation,Comedy,Family   \n",
       "4            Suicide Squad  Action,Adventure,Fantasy   \n",
       "\n",
       "                                         Description              Director  \\\n",
       "0  A group of intergalactic criminals are forced ...            James Gunn   \n",
       "1  Following clues to the origin of mankind, a te...          Ridley Scott   \n",
       "2  Three girls are kidnapped by a man with a diag...    M. Night Shyamalan   \n",
       "3  In a city of humanoid animals, a hustling thea...  Christophe Lourdelet   \n",
       "4  A secret government agency recruits some of th...            David Ayer   \n",
       "\n",
       "                                              Actors  Year  Runtime (Minutes)  \\\n",
       "0  Chris Pratt, Vin Diesel, Bradley Cooper, Zoe S...  2014                121   \n",
       "1  Noomi Rapace, Logan Marshall-Green, Michael Fa...  2012                124   \n",
       "2  James McAvoy, Anya Taylor-Joy, Haley Lu Richar...  2016                117   \n",
       "3  Matthew McConaughey,Reese Witherspoon, Seth Ma...  2016                108   \n",
       "4  Will Smith, Jared Leto, Margot Robbie, Viola D...  2016                123   \n",
       "\n",
       "   Rating   Votes  Revenue (Millions)  Metascore  Total Average Score  \n",
       "0     8.1  757074              333.13        7.6                 7.85  \n",
       "1     7.0  485820              126.46        6.5                 6.75  \n",
       "2     7.3  157606              138.12        6.2                 6.75  \n",
       "3     7.2   60545              270.32        5.9                 6.55  \n",
       "4     6.2  393727              325.02        4.0                 5.10  "
      ]
     },
     "execution_count": 43,
     "metadata": {},
     "output_type": "execute_result"
    }
   ],
   "source": [
    "# Divide the metascore by 10, so both 'rating' and 'metascore' are out of 10\n",
    "DF1[\"Metascore\"] = DF1[\"Metascore\"]/10\n",
    "DF1[\"Total Average Score\"] = (DF1[\"Metascore\"] + DF1[\"Rating\"])/2\n",
    "# Round any long float values to 3 decimal places\n",
    "decimals = 3    \n",
    "DF1[\"Total Average Score\"] = DF1[\"Total Average Score\"].apply(lambda x: round(x, decimals))\n",
    "DF1.head()"
   ]
  },
  {
   "cell_type": "code",
   "execution_count": 44,
   "id": "33f62fd9-5c8c-41e6-857b-42ce9cfeed1a",
   "metadata": {},
   "outputs": [
    {
     "name": "stderr",
     "output_type": "stream",
     "text": [
      "/var/folders/4t/8pcqqqsd2g3ch1b3_4zqdjxc0000gn/T/ipykernel_48648/912156806.py:2: SettingWithCopyWarning: \n",
      "A value is trying to be set on a copy of a slice from a DataFrame.\n",
      "Try using .loc[row_indexer,col_indexer] = value instead\n",
      "\n",
      "See the caveats in the documentation: https://pandas.pydata.org/pandas-docs/stable/user_guide/indexing.html#returning-a-view-versus-a-copy\n",
      "  DF1['Rank'] = DF1['Total Average Score'].rank(ascending = False, method='dense')\n"
     ]
    },
    {
     "data": {
      "text/html": [
       "<div>\n",
       "<style scoped>\n",
       "    .dataframe tbody tr th:only-of-type {\n",
       "        vertical-align: middle;\n",
       "    }\n",
       "\n",
       "    .dataframe tbody tr th {\n",
       "        vertical-align: top;\n",
       "    }\n",
       "\n",
       "    .dataframe thead th {\n",
       "        text-align: right;\n",
       "    }\n",
       "</style>\n",
       "<table border=\"1\" class=\"dataframe\">\n",
       "  <thead>\n",
       "    <tr style=\"text-align: right;\">\n",
       "      <th></th>\n",
       "      <th>Title</th>\n",
       "      <th>Genre</th>\n",
       "      <th>Description</th>\n",
       "      <th>Director</th>\n",
       "      <th>Actors</th>\n",
       "      <th>Year</th>\n",
       "      <th>Runtime (Minutes)</th>\n",
       "      <th>Rating</th>\n",
       "      <th>Votes</th>\n",
       "      <th>Revenue (Millions)</th>\n",
       "      <th>Metascore</th>\n",
       "      <th>Total Average Score</th>\n",
       "    </tr>\n",
       "    <tr>\n",
       "      <th>Rank</th>\n",
       "      <th></th>\n",
       "      <th></th>\n",
       "      <th></th>\n",
       "      <th></th>\n",
       "      <th></th>\n",
       "      <th></th>\n",
       "      <th></th>\n",
       "      <th></th>\n",
       "      <th></th>\n",
       "      <th></th>\n",
       "      <th></th>\n",
       "      <th></th>\n",
       "    </tr>\n",
       "  </thead>\n",
       "  <tbody>\n",
       "    <tr>\n",
       "      <th>1.0</th>\n",
       "      <td>Pan's Labyrinth</td>\n",
       "      <td>Drama,Fantasy,War</td>\n",
       "      <td>In the falangist Spain of 1944, the bookish yo...</td>\n",
       "      <td>Guillermo del Toro</td>\n",
       "      <td>Ivana Baquero, Ariadna Gil, Sergi López,Maribe...</td>\n",
       "      <td>2006</td>\n",
       "      <td>118</td>\n",
       "      <td>8.2</td>\n",
       "      <td>498879</td>\n",
       "      <td>37.62</td>\n",
       "      <td>9.8</td>\n",
       "      <td>9.00</td>\n",
       "    </tr>\n",
       "    <tr>\n",
       "      <th>2.0</th>\n",
       "      <td>Boyhood</td>\n",
       "      <td>Drama</td>\n",
       "      <td>The life of Mason, from early childhood to his...</td>\n",
       "      <td>Richard Linklater</td>\n",
       "      <td>Ellar Coltrane, Patricia Arquette, Ethan Hawke...</td>\n",
       "      <td>2014</td>\n",
       "      <td>165</td>\n",
       "      <td>7.9</td>\n",
       "      <td>286722</td>\n",
       "      <td>25.36</td>\n",
       "      <td>10.0</td>\n",
       "      <td>8.95</td>\n",
       "    </tr>\n",
       "    <tr>\n",
       "      <th>3.0</th>\n",
       "      <td>12 Years a Slave</td>\n",
       "      <td>Biography,Drama,History</td>\n",
       "      <td>In the antebellum United States, Solomon North...</td>\n",
       "      <td>Steve McQueen</td>\n",
       "      <td>Chiwetel Ejiofor, Michael Kenneth Williams, Mi...</td>\n",
       "      <td>2013</td>\n",
       "      <td>134</td>\n",
       "      <td>8.1</td>\n",
       "      <td>486338</td>\n",
       "      <td>56.67</td>\n",
       "      <td>9.6</td>\n",
       "      <td>8.85</td>\n",
       "    </tr>\n",
       "    <tr>\n",
       "      <th>4.0</th>\n",
       "      <td>Ratatouille</td>\n",
       "      <td>Animation,Comedy,Family</td>\n",
       "      <td>A rat who can cook makes an unusual alliance w...</td>\n",
       "      <td>Brad Bird</td>\n",
       "      <td>Brad Garrett, Lou Romano, Patton Oswalt,Ian Holm</td>\n",
       "      <td>2007</td>\n",
       "      <td>111</td>\n",
       "      <td>8.0</td>\n",
       "      <td>504039</td>\n",
       "      <td>206.44</td>\n",
       "      <td>9.6</td>\n",
       "      <td>8.80</td>\n",
       "    </tr>\n",
       "    <tr>\n",
       "      <th>4.0</th>\n",
       "      <td>La La Land</td>\n",
       "      <td>Comedy,Drama,Music</td>\n",
       "      <td>A jazz pianist falls for an aspiring actress i...</td>\n",
       "      <td>Damien Chazelle</td>\n",
       "      <td>Ryan Gosling, Emma Stone, Rosemarie DeWitt, J....</td>\n",
       "      <td>2016</td>\n",
       "      <td>128</td>\n",
       "      <td>8.3</td>\n",
       "      <td>258682</td>\n",
       "      <td>151.06</td>\n",
       "      <td>9.3</td>\n",
       "      <td>8.80</td>\n",
       "    </tr>\n",
       "    <tr>\n",
       "      <th>...</th>\n",
       "      <td>...</td>\n",
       "      <td>...</td>\n",
       "      <td>...</td>\n",
       "      <td>...</td>\n",
       "      <td>...</td>\n",
       "      <td>...</td>\n",
       "      <td>...</td>\n",
       "      <td>...</td>\n",
       "      <td>...</td>\n",
       "      <td>...</td>\n",
       "      <td>...</td>\n",
       "      <td>...</td>\n",
       "    </tr>\n",
       "    <tr>\n",
       "      <th>107.0</th>\n",
       "      <td>Sex and the City 2</td>\n",
       "      <td>Comedy,Drama,Romance</td>\n",
       "      <td>While wrestling with the pressures of life, lo...</td>\n",
       "      <td>Michael Patrick King</td>\n",
       "      <td>Sarah Jessica Parker, Kim Cattrall, Kristin Da...</td>\n",
       "      <td>2010</td>\n",
       "      <td>146</td>\n",
       "      <td>4.3</td>\n",
       "      <td>62403</td>\n",
       "      <td>95.33</td>\n",
       "      <td>2.7</td>\n",
       "      <td>3.50</td>\n",
       "    </tr>\n",
       "    <tr>\n",
       "      <th>108.0</th>\n",
       "      <td>Max Steel</td>\n",
       "      <td>Action,Adventure,Family</td>\n",
       "      <td>The adventures of teenager Max McGrath and his...</td>\n",
       "      <td>Stewart Hendler</td>\n",
       "      <td>Ben Winchell, Josh Brener, Maria Bello, Andy G...</td>\n",
       "      <td>2016</td>\n",
       "      <td>92</td>\n",
       "      <td>4.6</td>\n",
       "      <td>11555</td>\n",
       "      <td>3.77</td>\n",
       "      <td>2.2</td>\n",
       "      <td>3.40</td>\n",
       "    </tr>\n",
       "    <tr>\n",
       "      <th>109.0</th>\n",
       "      <td>Nine Lives</td>\n",
       "      <td>Comedy,Family,Fantasy</td>\n",
       "      <td>A stuffy businessman finds himself trapped ins...</td>\n",
       "      <td>Barry Sonnenfeld</td>\n",
       "      <td>Kevin Spacey, Jennifer Garner, Robbie Amell,Ch...</td>\n",
       "      <td>2016</td>\n",
       "      <td>87</td>\n",
       "      <td>5.3</td>\n",
       "      <td>12435</td>\n",
       "      <td>19.64</td>\n",
       "      <td>1.1</td>\n",
       "      <td>3.20</td>\n",
       "    </tr>\n",
       "    <tr>\n",
       "      <th>110.0</th>\n",
       "      <td>Movie 43</td>\n",
       "      <td>Comedy,Romance</td>\n",
       "      <td>A series of interconnected short films follows...</td>\n",
       "      <td>Elizabeth Banks</td>\n",
       "      <td>Emma Stone, Stephen Merchant, Richard Gere, Li...</td>\n",
       "      <td>2013</td>\n",
       "      <td>94</td>\n",
       "      <td>4.3</td>\n",
       "      <td>83625</td>\n",
       "      <td>8.83</td>\n",
       "      <td>1.8</td>\n",
       "      <td>3.05</td>\n",
       "    </tr>\n",
       "    <tr>\n",
       "      <th>111.0</th>\n",
       "      <td>Disaster Movie</td>\n",
       "      <td>Comedy</td>\n",
       "      <td>Over the course of one evening, an unsuspectin...</td>\n",
       "      <td>Jason Friedberg</td>\n",
       "      <td>Carmen Electra, Vanessa Lachey,Nicole Parker, ...</td>\n",
       "      <td>2008</td>\n",
       "      <td>87</td>\n",
       "      <td>1.9</td>\n",
       "      <td>77207</td>\n",
       "      <td>14.17</td>\n",
       "      <td>1.5</td>\n",
       "      <td>1.70</td>\n",
       "    </tr>\n",
       "  </tbody>\n",
       "</table>\n",
       "<p>826 rows × 12 columns</p>\n",
       "</div>"
      ],
      "text/plain": [
       "                    Title                    Genre  \\\n",
       "Rank                                                 \n",
       "1.0       Pan's Labyrinth        Drama,Fantasy,War   \n",
       "2.0               Boyhood                    Drama   \n",
       "3.0      12 Years a Slave  Biography,Drama,History   \n",
       "4.0           Ratatouille  Animation,Comedy,Family   \n",
       "4.0            La La Land       Comedy,Drama,Music   \n",
       "...                   ...                      ...   \n",
       "107.0  Sex and the City 2     Comedy,Drama,Romance   \n",
       "108.0           Max Steel  Action,Adventure,Family   \n",
       "109.0          Nine Lives    Comedy,Family,Fantasy   \n",
       "110.0            Movie 43           Comedy,Romance   \n",
       "111.0      Disaster Movie                   Comedy   \n",
       "\n",
       "                                             Description  \\\n",
       "Rank                                                       \n",
       "1.0    In the falangist Spain of 1944, the bookish yo...   \n",
       "2.0    The life of Mason, from early childhood to his...   \n",
       "3.0    In the antebellum United States, Solomon North...   \n",
       "4.0    A rat who can cook makes an unusual alliance w...   \n",
       "4.0    A jazz pianist falls for an aspiring actress i...   \n",
       "...                                                  ...   \n",
       "107.0  While wrestling with the pressures of life, lo...   \n",
       "108.0  The adventures of teenager Max McGrath and his...   \n",
       "109.0  A stuffy businessman finds himself trapped ins...   \n",
       "110.0  A series of interconnected short films follows...   \n",
       "111.0  Over the course of one evening, an unsuspectin...   \n",
       "\n",
       "                   Director  \\\n",
       "Rank                          \n",
       "1.0      Guillermo del Toro   \n",
       "2.0       Richard Linklater   \n",
       "3.0           Steve McQueen   \n",
       "4.0               Brad Bird   \n",
       "4.0         Damien Chazelle   \n",
       "...                     ...   \n",
       "107.0  Michael Patrick King   \n",
       "108.0       Stewart Hendler   \n",
       "109.0      Barry Sonnenfeld   \n",
       "110.0       Elizabeth Banks   \n",
       "111.0       Jason Friedberg   \n",
       "\n",
       "                                                  Actors  Year  \\\n",
       "Rank                                                             \n",
       "1.0    Ivana Baquero, Ariadna Gil, Sergi López,Maribe...  2006   \n",
       "2.0    Ellar Coltrane, Patricia Arquette, Ethan Hawke...  2014   \n",
       "3.0    Chiwetel Ejiofor, Michael Kenneth Williams, Mi...  2013   \n",
       "4.0     Brad Garrett, Lou Romano, Patton Oswalt,Ian Holm  2007   \n",
       "4.0    Ryan Gosling, Emma Stone, Rosemarie DeWitt, J....  2016   \n",
       "...                                                  ...   ...   \n",
       "107.0  Sarah Jessica Parker, Kim Cattrall, Kristin Da...  2010   \n",
       "108.0  Ben Winchell, Josh Brener, Maria Bello, Andy G...  2016   \n",
       "109.0  Kevin Spacey, Jennifer Garner, Robbie Amell,Ch...  2016   \n",
       "110.0  Emma Stone, Stephen Merchant, Richard Gere, Li...  2013   \n",
       "111.0  Carmen Electra, Vanessa Lachey,Nicole Parker, ...  2008   \n",
       "\n",
       "       Runtime (Minutes)  Rating   Votes  Revenue (Millions)  Metascore  \\\n",
       "Rank                                                                      \n",
       "1.0                  118     8.2  498879               37.62        9.8   \n",
       "2.0                  165     7.9  286722               25.36       10.0   \n",
       "3.0                  134     8.1  486338               56.67        9.6   \n",
       "4.0                  111     8.0  504039              206.44        9.6   \n",
       "4.0                  128     8.3  258682              151.06        9.3   \n",
       "...                  ...     ...     ...                 ...        ...   \n",
       "107.0                146     4.3   62403               95.33        2.7   \n",
       "108.0                 92     4.6   11555                3.77        2.2   \n",
       "109.0                 87     5.3   12435               19.64        1.1   \n",
       "110.0                 94     4.3   83625                8.83        1.8   \n",
       "111.0                 87     1.9   77207               14.17        1.5   \n",
       "\n",
       "       Total Average Score  \n",
       "Rank                        \n",
       "1.0                   9.00  \n",
       "2.0                   8.95  \n",
       "3.0                   8.85  \n",
       "4.0                   8.80  \n",
       "4.0                   8.80  \n",
       "...                    ...  \n",
       "107.0                 3.50  \n",
       "108.0                 3.40  \n",
       "109.0                 3.20  \n",
       "110.0                 3.05  \n",
       "111.0                 1.70  \n",
       "\n",
       "[826 rows x 12 columns]"
      ]
     },
     "execution_count": 44,
     "metadata": {},
     "output_type": "execute_result"
    }
   ],
   "source": [
    "# Ranking based on new score\n",
    "DF1['Rank'] = DF1['Total Average Score'].rank(ascending = False, method='dense')\n",
    "  \n",
    "# Set the index to newly created column, Total Average Score\n",
    "DF1 = DF1.set_index('Rank')\n",
    "DF1_new = DF1.sort_index()\n",
    "DF1_new\n"
   ]
  },
  {
   "cell_type": "code",
   "execution_count": 45,
   "id": "6f0f0b85-c40d-48a4-82f4-933830e6fa85",
   "metadata": {},
   "outputs": [],
   "source": [
    "# Output results to a CSV file\n",
    "DF1_new.to_csv(\"out.csv\")"
   ]
  },
  {
   "cell_type": "markdown",
   "id": "144a56cb-9f9c-478f-8fcb-8d6538ed1214",
   "metadata": {},
   "source": [
    "----"
   ]
  },
  {
   "cell_type": "markdown",
   "id": "a3c29702-c1d7-4748-9a4c-43711974c230",
   "metadata": {},
   "source": [
    "# Inferential Statistics"
   ]
  },
  {
   "cell_type": "markdown",
   "id": "00639f91-344e-4d83-b194-cbff23a8491e",
   "metadata": {},
   "source": [
    "### Let's take a look at the distrubtion of the 'Total Average Score's"
   ]
  },
  {
   "cell_type": "code",
   "execution_count": 46,
   "id": "04597104-4e6a-44cf-a454-355e7b202356",
   "metadata": {},
   "outputs": [
    {
     "name": "stdout",
     "output_type": "stream",
     "text": [
      "count    826.000000\n",
      "mean       6.363257\n",
      "std        1.180615\n",
      "min        1.700000\n",
      "25%        5.500000\n",
      "50%        6.400000\n",
      "75%        7.300000\n",
      "max        9.000000\n",
      "Name: Total Average Score, dtype: float64\n"
     ]
    },
    {
     "data": {
      "image/png": "[encoded data removed]",
      "text/plain": [
       "<Figure size 432x288 with 1 Axes>"
      ]
     },
     "metadata": {
      "needs_background": "light"
     },
     "output_type": "display_data"
    }
   ],
   "source": [
    "sns.histplot(DF1_new['Total Average Score']).set(title='Distribution of New Scoring Metric')\n",
    "print(DF1_new[\"Total Average Score\"].describe())"
   ]
  },
  {
   "cell_type": "markdown",
   "id": "88cb1cb5-17e8-48d7-ad90-9cd060f305c4",
   "metadata": {},
   "source": [
    "## Based on the plot above, it could be represented by a Normal Distribution. Let's run a test!\n",
    "### H<sub>0</sub>: The data approximates a Normal Distribtion\n",
    "\n",
    "### H<sub>1</sub>: The data approximates another type of distribution"
   ]
  },
  {
   "cell_type": "code",
   "execution_count": 47,
   "id": "864f1f68-cf0e-44ec-9a19-e53d28439dcf",
   "metadata": {},
   "outputs": [],
   "source": [
    "# Imports\n",
    "%matplotlib inline\n",
    "\n",
    "import numpy as np\n",
    "import matplotlib.pyplot as plt\n",
    "\n",
    "import scipy.stats as stats\n",
    "from scipy.stats import normaltest"
   ]
  },
  {
   "cell_type": "code",
   "execution_count": 48,
   "id": "3ef30502-eaab-4095-9f87-6a52d2719ecb",
   "metadata": {},
   "outputs": [],
   "source": [
    "# Set up a helper function for checking p-values against an alpha level, and printing result\n",
    "def hypothesis_test(p_val, alpha):\n",
    "\n",
    "    if p_val < alpha:\n",
    "        print('We have evidence to reject the null hypothesis.')\n",
    "    else:\n",
    "        print('We do not have evidence to reject the null hypothesis.')"
   ]
  },
  {
   "cell_type": "code",
   "execution_count": 49,
   "id": "79d6f1e7-c9ee-43ef-b4ab-de6ed04914cd",
   "metadata": {},
   "outputs": [],
   "source": [
    "# Create a dataset of normally distributed data\n",
    "d1 = DF1_new[\"Total Average Score\"]"
   ]
  },
  {
   "cell_type": "code",
   "execution_count": 50,
   "id": "d9f52de7-4214-41e7-ac2e-8539ed2c7f72",
   "metadata": {},
   "outputs": [
    {
     "data": {
      "image/png": "[encoded data removed]",
      "text/plain": [
       "<Figure size 432x288 with 1 Axes>"
      ]
     },
     "metadata": {
      "needs_background": "light"
     },
     "output_type": "display_data"
    }
   ],
   "source": [
    "# Plot a histogram of the observed data\n",
    "#  Included is expected distribution, if the data is normally distributed, with the same mean and std of the data. \n",
    "xs = np.arange(d1.min(), d1.max(), 0.1)\n",
    "fit = stats.norm.pdf(xs, np.mean(d1), np.std(d1))\n",
    "plt.plot(xs, fit, label='Normal Dist.', lw=3)\n",
    "plt.hist(d1, 50, density=True, label='Actual Data');\n",
    "plt.legend();"
   ]
  },
  {
   "cell_type": "code",
   "execution_count": 51,
   "id": "9ca98b1a-8cbb-4b23-b34c-b853e764113a",
   "metadata": {},
   "outputs": [],
   "source": [
    "# Run normal test on the data\n",
    "stat, p_val = normaltest(d1)"
   ]
  },
  {
   "cell_type": "code",
   "execution_count": 52,
   "id": "08f7607c-7704-4457-8944-b0e89b741a8b",
   "metadata": {},
   "outputs": [
    {
     "name": "stdout",
     "output_type": "stream",
     "text": [
      "\n",
      "Normaltest p-value is: 0.0006317385390053456\n",
      "We have evidence to reject the null hypothesis.\n"
     ]
    }
   ],
   "source": [
    "# Check the p-value of the normaltest\n",
    "print('\\nNormaltest p-value is: '+ str(p_val))\n",
    "\n",
    "# With alpha value of 0.05, how should we proceed\n",
    "hypothesis_test(p_val, alpha=0.05)"
   ]
  },
  {
   "cell_type": "markdown",
   "id": "e9e3130d-5002-4869-bfef-4ebb1cd556b1",
   "metadata": {},
   "source": [
    "### Lets see if we can find a better approximation other than a Normal Distribution"
   ]
  },
  {
   "cell_type": "code",
   "execution_count": 53,
   "id": "e7b3bf22-737c-489b-9e9a-771e22f07c58",
   "metadata": {},
   "outputs": [
    {
     "name": "stdout",
     "output_type": "stream",
     "text": [
      "[distfit] >fit..\n",
      "[distfit] >transform..\n",
      "[distfit] >[norm      ] [0.02 sec] [RSS: 0.0774417] [loc=6.363 scale=1.180]\n",
      "[distfit] >[expon     ] [0.00 sec] [RSS: 1.22618] [loc=1.700 scale=4.663]\n",
      "[distfit] >[pareto    ] [0.15 sec] [RSS: 1.14301] [loc=-18032254.655 scale=18032256.355]\n",
      "[distfit] >[dweibull  ] [0.03 sec] [RSS: 0.122156] [loc=6.377 scale=1.057]\n",
      "[distfit] >[t         ] [0.12 sec] [RSS: 0.0774351] [loc=6.363 scale=1.180]\n",
      "[distfit] >[genextreme] [0.09 sec] [RSS: 0.0600729] [loc=6.000 scale=1.228]\n",
      "[distfit] >[gamma     ] [0.12 sec] [RSS: 0.0794917] [loc=-17.875 scale=0.059]\n",
      "[distfit] >[lognorm   ] [0.25 sec] [RSS: 0.0787679] [loc=-164.757 scale=171.119]\n",
      "[distfit] >[beta      ] [0.08 sec] [RSS: 0.0587028] [loc=0.649 scale=8.882]\n",
      "[distfit] >[uniform   ] [0.00 sec] [RSS: 0.70152] [loc=1.700 scale=7.300]\n",
      "[distfit] >[loggamma  ] [0.05 sec] [RSS: 0.0752152] [loc=-3.071 scale=3.929]\n",
      "[distfit] >Compute confidence interval [parametric]\n"
     ]
    },
    {
     "data": {
      "text/html": [
       "<div>\n",
       "<style scoped>\n",
       "    .dataframe tbody tr th:only-of-type {\n",
       "        vertical-align: middle;\n",
       "    }\n",
       "\n",
       "    .dataframe tbody tr th {\n",
       "        vertical-align: top;\n",
       "    }\n",
       "\n",
       "    .dataframe thead th {\n",
       "        text-align: right;\n",
       "    }\n",
       "</style>\n",
       "<table border=\"1\" class=\"dataframe\">\n",
       "  <thead>\n",
       "    <tr style=\"text-align: right;\">\n",
       "      <th></th>\n",
       "      <th>distr</th>\n",
       "      <th>score</th>\n",
       "      <th>LLE</th>\n",
       "      <th>loc</th>\n",
       "      <th>scale</th>\n",
       "      <th>arg</th>\n",
       "    </tr>\n",
       "  </thead>\n",
       "  <tbody>\n",
       "    <tr>\n",
       "      <th>0</th>\n",
       "      <td>beta</td>\n",
       "      <td>0.058703</td>\n",
       "      <td>NaN</td>\n",
       "      <td>0.648975</td>\n",
       "      <td>8.881696</td>\n",
       "      <td>(7.6795296452503194, 4.2523963551146755)</td>\n",
       "    </tr>\n",
       "    <tr>\n",
       "      <th>1</th>\n",
       "      <td>genextreme</td>\n",
       "      <td>0.060073</td>\n",
       "      <td>NaN</td>\n",
       "      <td>6.000265</td>\n",
       "      <td>1.228009</td>\n",
       "      <td>(0.37768526529565233,)</td>\n",
       "    </tr>\n",
       "    <tr>\n",
       "      <th>2</th>\n",
       "      <td>loggamma</td>\n",
       "      <td>0.075215</td>\n",
       "      <td>NaN</td>\n",
       "      <td>-3.070808</td>\n",
       "      <td>3.92866</td>\n",
       "      <td>(11.534230534243287,)</td>\n",
       "    </tr>\n",
       "    <tr>\n",
       "      <th>3</th>\n",
       "      <td>t</td>\n",
       "      <td>0.077435</td>\n",
       "      <td>NaN</td>\n",
       "      <td>6.363247</td>\n",
       "      <td>1.179936</td>\n",
       "      <td>(4940837.891480394,)</td>\n",
       "    </tr>\n",
       "    <tr>\n",
       "      <th>4</th>\n",
       "      <td>norm</td>\n",
       "      <td>0.077442</td>\n",
       "      <td>NaN</td>\n",
       "      <td>6.363257</td>\n",
       "      <td>1.1799</td>\n",
       "      <td>()</td>\n",
       "    </tr>\n",
       "    <tr>\n",
       "      <th>5</th>\n",
       "      <td>lognorm</td>\n",
       "      <td>0.078768</td>\n",
       "      <td>NaN</td>\n",
       "      <td>-164.756731</td>\n",
       "      <td>171.118684</td>\n",
       "      <td>(0.006872460552919849,)</td>\n",
       "    </tr>\n",
       "    <tr>\n",
       "      <th>6</th>\n",
       "      <td>gamma</td>\n",
       "      <td>0.079492</td>\n",
       "      <td>NaN</td>\n",
       "      <td>-17.87457</td>\n",
       "      <td>0.058933</td>\n",
       "      <td>(411.158223879361,)</td>\n",
       "    </tr>\n",
       "    <tr>\n",
       "      <th>7</th>\n",
       "      <td>dweibull</td>\n",
       "      <td>0.122156</td>\n",
       "      <td>NaN</td>\n",
       "      <td>6.377413</td>\n",
       "      <td>1.05722</td>\n",
       "      <td>(1.3760963608443042,)</td>\n",
       "    </tr>\n",
       "    <tr>\n",
       "      <th>8</th>\n",
       "      <td>uniform</td>\n",
       "      <td>0.70152</td>\n",
       "      <td>NaN</td>\n",
       "      <td>1.7</td>\n",
       "      <td>7.3</td>\n",
       "      <td>()</td>\n",
       "    </tr>\n",
       "    <tr>\n",
       "      <th>9</th>\n",
       "      <td>pareto</td>\n",
       "      <td>1.14301</td>\n",
       "      <td>NaN</td>\n",
       "      <td>-18032254.654758</td>\n",
       "      <td>18032256.354758</td>\n",
       "      <td>(3384715.187047409,)</td>\n",
       "    </tr>\n",
       "    <tr>\n",
       "      <th>10</th>\n",
       "      <td>expon</td>\n",
       "      <td>1.226177</td>\n",
       "      <td>NaN</td>\n",
       "      <td>1.7</td>\n",
       "      <td>4.663257</td>\n",
       "      <td>()</td>\n",
       "    </tr>\n",
       "  </tbody>\n",
       "</table>\n",
       "</div>"
      ],
      "text/plain": [
       "         distr     score  LLE              loc            scale  \\\n",
       "0         beta  0.058703  NaN         0.648975         8.881696   \n",
       "1   genextreme  0.060073  NaN         6.000265         1.228009   \n",
       "2     loggamma  0.075215  NaN        -3.070808          3.92866   \n",
       "3            t  0.077435  NaN         6.363247         1.179936   \n",
       "4         norm  0.077442  NaN         6.363257           1.1799   \n",
       "5      lognorm  0.078768  NaN      -164.756731       171.118684   \n",
       "6        gamma  0.079492  NaN        -17.87457         0.058933   \n",
       "7     dweibull  0.122156  NaN         6.377413          1.05722   \n",
       "8      uniform   0.70152  NaN              1.7              7.3   \n",
       "9       pareto   1.14301  NaN -18032254.654758  18032256.354758   \n",
       "10       expon  1.226177  NaN              1.7         4.663257   \n",
       "\n",
       "                                         arg  \n",
       "0   (7.6795296452503194, 4.2523963551146755)  \n",
       "1                     (0.37768526529565233,)  \n",
       "2                      (11.534230534243287,)  \n",
       "3                       (4940837.891480394,)  \n",
       "4                                         ()  \n",
       "5                    (0.006872460552919849,)  \n",
       "6                        (411.158223879361,)  \n",
       "7                      (1.3760963608443042,)  \n",
       "8                                         ()  \n",
       "9                       (3384715.187047409,)  \n",
       "10                                        ()  "
      ]
     },
     "execution_count": 53,
     "metadata": {},
     "output_type": "execute_result"
    }
   ],
   "source": [
    "from distfit import distfit\n",
    "\n",
    "# Initialize distfit\n",
    "dist = distfit()\n",
    "\n",
    "# Determine best-fitting probability distribution for data\n",
    "dist.fit_transform(d1)\n",
    "\n",
    "# Print summary of evaluated distributions\n",
    "dist.summary\n",
    "\n"
   ]
  },
  {
   "cell_type": "markdown",
   "id": "bb547608-ecb9-4b52-9591-c92e9606bc19",
   "metadata": {},
   "source": [
    "### Looks like a Beta Distribution is the best approximation, with a Residual Sum of Squares (RSS) of ~0.0587"
   ]
  },
  {
   "cell_type": "code",
   "execution_count": 54,
   "id": "62c30fd5-e02d-4524-ace3-a77b8575173e",
   "metadata": {},
   "outputs": [
    {
     "name": "stdout",
     "output_type": "stream",
     "text": [
      "[distfit] >plot summary..\n"
     ]
    },
    {
     "data": {
      "text/plain": [
       "(<Figure size 1080x576 with 1 Axes>,\n",
       " <AxesSubplot:title={'center':'Best fit: beta'}, xlabel='Distribution name', ylabel='RSS (lower is better)'>)"
      ]
     },
     "execution_count": 54,
     "metadata": {},
     "output_type": "execute_result"
    },
    {
     "data": {
      "image/png": "[encoded data removed]",
      "text/plain": [
       "<Figure size 1080x576 with 1 Axes>"
      ]
     },
     "metadata": {
      "needs_background": "light"
     },
     "output_type": "display_data"
    }
   ],
   "source": [
    "dist.plot_summary()"
   ]
  },
  {
   "cell_type": "code",
   "execution_count": 55,
   "id": "fdfcdeed-2e96-430d-aa9d-fbc4d3b40909",
   "metadata": {},
   "outputs": [
    {
     "name": "stdout",
     "output_type": "stream",
     "text": [
      "[distfit] >plot..\n"
     ]
    },
    {
     "data": {
      "text/plain": [
       "(<Figure size 720x576 with 1 Axes>,\n",
       " <AxesSubplot:title={'center':'\\nbeta\\nRSS(a=7.67953, b=4.2524, loc=0.648975, scale=8.8817)'}, xlabel='Values', ylabel='Frequency'>)"
      ]
     },
     "execution_count": 55,
     "metadata": {},
     "output_type": "execute_result"
    },
    {
     "data": {
      "image/png": "[encoded data removed]",
      "text/plain": [
       "<Figure size 720x576 with 1 Axes>"
      ]
     },
     "metadata": {
      "needs_background": "light"
     },
     "output_type": "display_data"
    }
   ],
   "source": [
    "# Plot results\n",
    "dist.plot()"
   ]
  },
  {
   "cell_type": "markdown",
   "id": "46cce821-c0ef-45a4-b933-33b1e279af27",
   "metadata": {},
   "source": [
    "### Based on this our 95% confidence interval, CI = [4.2524, 7.67953]\n",
    "Meaning that there is 95% chance that populaiton parameter of \"Total Average Score\"s will fall between this range. "
   ]
  },
  {
   "cell_type": "markdown",
   "id": "b9a92cee-fe38-4e8d-aeea-e27d6cf21c5d",
   "metadata": {},
   "source": [
    "# Conclusions\n",
    "This analysis brings a couple of interesting insights:\n",
    "\n",
    "1. Less people are voting on the IMDB platform over the years, likely due to loss of users to other platforms like Rotten Tomatoes and LetterBoxd.\n",
    "\n",
    "2. Longer movies tend to be rated higher - this agrees with the trend of popular movies today (2023), as it is difficult to find a popular movie under 2 hours long.\n",
    "\n",
    "3. The distribution of 'Total Average Score's first looked like it approximated a Normal distribution, but after testing the Beta distribution is a better fit.\n",
    "\n"
   ]
  }
 ],
 "metadata": {
  "kernelspec": {
   "display_name": "Python 3 (ipykernel)",
   "language": "python",
   "name": "python3"
  },
  "language_info": {
   "codemirror_mode": {
    "name": "ipython",
    "version": 3
   },
   "file_extension": ".py",
   "mimetype": "text/x-python",
   "name": "python",
   "nbconvert_exporter": "python",
   "pygments_lexer": "ipython3",
   "version": "3.9.12"
  }
 },
 "nbformat": 4,
 "nbformat_minor": 5
}
