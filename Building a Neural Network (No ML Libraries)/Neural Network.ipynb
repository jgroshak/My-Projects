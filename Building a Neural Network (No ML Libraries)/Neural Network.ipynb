{
 "cells": [
  {
   "cell_type": "markdown",
   "id": "79bad03b-6cda-4e69-b439-494fe3f571a9",
   "metadata": {
    "tags": []
   },
   "source": [
    "## Building a simple 2-layer neural network\n",
    "*Using MNIST Digit dataset*"
   ]
  },
  {
   "cell_type": "code",
   "execution_count": 1,
   "id": "7d76fba3-c83c-41d2-bc12-70600f90e209",
   "metadata": {},
   "outputs": [],
   "source": [
    "import numpy as np\n",
    "import pandas as pd\n",
    "from matplotlib import pyplot as plt"
   ]
  },
  {
   "cell_type": "code",
   "execution_count": 2,
   "id": "454a7d4c-48b8-40af-bf2a-c877dbf73bb0",
   "metadata": {},
   "outputs": [
    {
     "data": {
      "text/html": [
       "<div>\n",
       "<style scoped>\n",
       "    .dataframe tbody tr th:only-of-type {\n",
       "        vertical-align: middle;\n",
       "    }\n",
       "\n",
       "    .dataframe tbody tr th {\n",
       "        vertical-align: top;\n",
       "    }\n",
       "\n",
       "    .dataframe thead th {\n",
       "        text-align: right;\n",
       "    }\n",
       "</style>\n",
       "<table border=\"1\" class=\"dataframe\">\n",
       "  <thead>\n",
       "    <tr style=\"text-align: right;\">\n",
       "      <th></th>\n",
       "      <th>label</th>\n",
       "      <th>pixel0</th>\n",
       "      <th>pixel1</th>\n",
       "      <th>pixel2</th>\n",
       "      <th>pixel3</th>\n",
       "      <th>pixel4</th>\n",
       "      <th>pixel5</th>\n",
       "      <th>pixel6</th>\n",
       "      <th>pixel7</th>\n",
       "      <th>pixel8</th>\n",
       "      <th>...</th>\n",
       "      <th>pixel774</th>\n",
       "      <th>pixel775</th>\n",
       "      <th>pixel776</th>\n",
       "      <th>pixel777</th>\n",
       "      <th>pixel778</th>\n",
       "      <th>pixel779</th>\n",
       "      <th>pixel780</th>\n",
       "      <th>pixel781</th>\n",
       "      <th>pixel782</th>\n",
       "      <th>pixel783</th>\n",
       "    </tr>\n",
       "  </thead>\n",
       "  <tbody>\n",
       "    <tr>\n",
       "      <th>0</th>\n",
       "      <td>1</td>\n",
       "      <td>0</td>\n",
       "      <td>0</td>\n",
       "      <td>0</td>\n",
       "      <td>0</td>\n",
       "      <td>0</td>\n",
       "      <td>0</td>\n",
       "      <td>0</td>\n",
       "      <td>0</td>\n",
       "      <td>0</td>\n",
       "      <td>...</td>\n",
       "      <td>0</td>\n",
       "      <td>0</td>\n",
       "      <td>0</td>\n",
       "      <td>0</td>\n",
       "      <td>0</td>\n",
       "      <td>0</td>\n",
       "      <td>0</td>\n",
       "      <td>0</td>\n",
       "      <td>0</td>\n",
       "      <td>0</td>\n",
       "    </tr>\n",
       "    <tr>\n",
       "      <th>1</th>\n",
       "      <td>0</td>\n",
       "      <td>0</td>\n",
       "      <td>0</td>\n",
       "      <td>0</td>\n",
       "      <td>0</td>\n",
       "      <td>0</td>\n",
       "      <td>0</td>\n",
       "      <td>0</td>\n",
       "      <td>0</td>\n",
       "      <td>0</td>\n",
       "      <td>...</td>\n",
       "      <td>0</td>\n",
       "      <td>0</td>\n",
       "      <td>0</td>\n",
       "      <td>0</td>\n",
       "      <td>0</td>\n",
       "      <td>0</td>\n",
       "      <td>0</td>\n",
       "      <td>0</td>\n",
       "      <td>0</td>\n",
       "      <td>0</td>\n",
       "    </tr>\n",
       "    <tr>\n",
       "      <th>2</th>\n",
       "      <td>1</td>\n",
       "      <td>0</td>\n",
       "      <td>0</td>\n",
       "      <td>0</td>\n",
       "      <td>0</td>\n",
       "      <td>0</td>\n",
       "      <td>0</td>\n",
       "      <td>0</td>\n",
       "      <td>0</td>\n",
       "      <td>0</td>\n",
       "      <td>...</td>\n",
       "      <td>0</td>\n",
       "      <td>0</td>\n",
       "      <td>0</td>\n",
       "      <td>0</td>\n",
       "      <td>0</td>\n",
       "      <td>0</td>\n",
       "      <td>0</td>\n",
       "      <td>0</td>\n",
       "      <td>0</td>\n",
       "      <td>0</td>\n",
       "    </tr>\n",
       "    <tr>\n",
       "      <th>3</th>\n",
       "      <td>4</td>\n",
       "      <td>0</td>\n",
       "      <td>0</td>\n",
       "      <td>0</td>\n",
       "      <td>0</td>\n",
       "      <td>0</td>\n",
       "      <td>0</td>\n",
       "      <td>0</td>\n",
       "      <td>0</td>\n",
       "      <td>0</td>\n",
       "      <td>...</td>\n",
       "      <td>0</td>\n",
       "      <td>0</td>\n",
       "      <td>0</td>\n",
       "      <td>0</td>\n",
       "      <td>0</td>\n",
       "      <td>0</td>\n",
       "      <td>0</td>\n",
       "      <td>0</td>\n",
       "      <td>0</td>\n",
       "      <td>0</td>\n",
       "    </tr>\n",
       "    <tr>\n",
       "      <th>4</th>\n",
       "      <td>0</td>\n",
       "      <td>0</td>\n",
       "      <td>0</td>\n",
       "      <td>0</td>\n",
       "      <td>0</td>\n",
       "      <td>0</td>\n",
       "      <td>0</td>\n",
       "      <td>0</td>\n",
       "      <td>0</td>\n",
       "      <td>0</td>\n",
       "      <td>...</td>\n",
       "      <td>0</td>\n",
       "      <td>0</td>\n",
       "      <td>0</td>\n",
       "      <td>0</td>\n",
       "      <td>0</td>\n",
       "      <td>0</td>\n",
       "      <td>0</td>\n",
       "      <td>0</td>\n",
       "      <td>0</td>\n",
       "      <td>0</td>\n",
       "    </tr>\n",
       "  </tbody>\n",
       "</table>\n",
       "<p>5 rows × 785 columns</p>\n",
       "</div>"
      ],
      "text/plain": [
       "   label  pixel0  pixel1  pixel2  pixel3  pixel4  pixel5  pixel6  pixel7  \\\n",
       "0      1       0       0       0       0       0       0       0       0   \n",
       "1      0       0       0       0       0       0       0       0       0   \n",
       "2      1       0       0       0       0       0       0       0       0   \n",
       "3      4       0       0       0       0       0       0       0       0   \n",
       "4      0       0       0       0       0       0       0       0       0   \n",
       "\n",
       "   pixel8  ...  pixel774  pixel775  pixel776  pixel777  pixel778  pixel779  \\\n",
       "0       0  ...         0         0         0         0         0         0   \n",
       "1       0  ...         0         0         0         0         0         0   \n",
       "2       0  ...         0         0         0         0         0         0   \n",
       "3       0  ...         0         0         0         0         0         0   \n",
       "4       0  ...         0         0         0         0         0         0   \n",
       "\n",
       "   pixel780  pixel781  pixel782  pixel783  \n",
       "0         0         0         0         0  \n",
       "1         0         0         0         0  \n",
       "2         0         0         0         0  \n",
       "3         0         0         0         0  \n",
       "4         0         0         0         0  \n",
       "\n",
       "[5 rows x 785 columns]"
      ]
     },
     "execution_count": 2,
     "metadata": {},
     "output_type": "execute_result"
    }
   ],
   "source": [
    "data = pd.read_csv('Data/MNIST_digit.csv')\n",
    "data.head()"
   ]
  },
  {
   "cell_type": "markdown",
   "id": "4a5bc78d-1ff2-421d-9958-b32476f6a91c",
   "metadata": {},
   "source": [
    "### Split data into training and testing sets"
   ]
  },
  {
   "cell_type": "code",
   "execution_count": 11,
   "id": "98d4c03b-3c27-4d14-b6e9-186e81bd8eb5",
   "metadata": {},
   "outputs": [],
   "source": [
    "data = np.array(data)\n",
    "m, n = data.shape\n",
    "np.random.shuffle(data)\n",
    "\n",
    "data_test = data[0:1000].T  # transpose matrix\n",
    "X_test = data_test[1:n]\n",
    "y_test = data_test[0] \n",
    "X_test = X_test / 255.\n",
    "\n",
    "data_train = data[1000:m].T  # transpose matrix\n",
    "X_train = data_train[1:n]\n",
    "y_train = data_train[0]\n",
    "X_train = X_train / 255.\n",
    "_,m_train = X_train.shape\n",
    "\n",
    "#X_train.shape # check the shape of the data"
   ]
  },
  {
   "cell_type": "markdown",
   "id": "0e4d084b-607c-43a4-a229-b87fac61a79e",
   "metadata": {},
   "source": [
    "### Creating model parameters and activation functions"
   ]
  },
  {
   "cell_type": "code",
   "execution_count": 12,
   "id": "f1020af3-6cac-453e-9cea-20671dad1f38",
   "metadata": {},
   "outputs": [],
   "source": [
    "def model_parameters():\n",
    "    W1 = np.random.rand(10, 784) - 0.5  # Input Layer\n",
    "    b1 = np.random.rand(10, 1) - 0.5  \n",
    "    W2 = np.random.rand(10, 10) - 0.5 # Output Layer\n",
    "    b2 = np.random.rand(10, 1) - 0.5\n",
    "    return W1, b1, W2, b2\n",
    "\n",
    "def ReLU(Z):\n",
    "    return np.maximum(Z, 0)\n",
    "\n",
    "def softmax(Z):\n",
    "    C = np.exp(Z) / sum(np.exp(Z))\n",
    "    return C"
   ]
  },
  {
   "cell_type": "markdown",
   "id": "46cc0fb5-dbbf-4f27-be7e-8ccb89be7e0f",
   "metadata": {},
   "source": [
    "### Defining forward and back propogation"
   ]
  },
  {
   "cell_type": "code",
   "execution_count": 13,
   "id": "aa09c025-8670-4a8d-9d0a-cb266a8e4358",
   "metadata": {},
   "outputs": [],
   "source": [
    "def forward_propogation(W1, b1, W2, b2, X):\n",
    "    Z1 = W1.dot(X) + b1\n",
    "    A1 = ReLU(Z1)\n",
    "    Z2 = W2.dot(A1) + b2 \n",
    "    A2 = softmax(Z2)\n",
    "    return Z1, A1, Z2, A2\n",
    "\n",
    "def ReLU_deriv(Z):\n",
    "    return Z > 0\n",
    "\n",
    "def one_hot_encode(y):\n",
    "    one_hot_y = np.zeros((y.size, y.max() + 1))\n",
    "    one_hot_y[np.arange(y.size), y] = 1\n",
    "    one_hot_y = one_hot_y.T\n",
    "    return one_hot_y\n",
    "\n",
    "def backward_propogation(Z1, A1, Z2, A2, W1, W2, X, y):\n",
    "    one_hot_y = one_hot_encode(y)\n",
    "    dZ2 = A2 - one_hot_y\n",
    "    dW2 = 1 / m * dZ2.dot(A1.T)\n",
    "    db2 = 1 / m * np.sum(dZ2)\n",
    "    dZ1 = W2.T.dot(dZ2) * ReLU_deriv(Z1)\n",
    "    dW1 = 1 / m * dZ1.dot(X.T)\n",
    "    db1 = 1 / m * np.sum(dZ1)\n",
    "    return dW1, db1, dW2, db2\n"
   ]
  },
  {
   "cell_type": "markdown",
   "id": "a0e1f2e6-3b73-4aa2-8a47-f73843c221ec",
   "metadata": {},
   "source": [
    "### Update parameters with new weights and biases"
   ]
  },
  {
   "cell_type": "code",
   "execution_count": 14,
   "id": "cb8dc5c1-09d8-4602-a1e8-1166fbdb2561",
   "metadata": {},
   "outputs": [],
   "source": [
    "def update_params(W1, b1, W2, b2, dW1, db1, dW2, db2, alpha):\n",
    "    W1 = W1 - alpha * dW1\n",
    "    b1 = b1 - alpha * db1    \n",
    "    W2 = W2 - alpha * dW2  \n",
    "    b2 = b2 - alpha * db2    \n",
    "    return W1, b1, W2, b2"
   ]
  },
  {
   "cell_type": "markdown",
   "id": "083fdfc7-86c9-419b-b1bb-ab335286490b",
   "metadata": {},
   "source": [
    "### Gradient Descent function"
   ]
  },
  {
   "cell_type": "code",
   "execution_count": 18,
   "id": "84f4564b-6eba-4874-87ba-9b86369a3fe3",
   "metadata": {},
   "outputs": [],
   "source": [
    "def get_predictions(A2):\n",
    "    return np.argmax(A2, 0)\n",
    "\n",
    "def get_accuracy(predictions, y):\n",
    "    print(predictions, y)\n",
    "    return np.sum(predictions == y) / y.size\n",
    "\n",
    "\n",
    "def gradient_descent(X, y, alpha, iterations):  # where alpha = 'the leanring rate'\n",
    "    W1, b1, W2, b2 = model_parameters()\n",
    "    for i in range(iterations):\n",
    "        Z1, A1, Z2, A2 = forward_propogation(W1, b1, W2, b2, X)\n",
    "        dW1, db1, dW2, db2 = backward_propogation(Z1, A1, Z2, A2, W1, W2, X, y)\n",
    "        W1, b1, W2, b2 = update_params(W1, b1, W2, b2, dW1, db1, dW2, db2, alpha)\n",
    "        if i % 20 == 0:\n",
    "            print(\"Iteration: \", i)\n",
    "            predictions = get_predictions(A2)\n",
    "            print(get_accuracy(predictions, y))\n",
    "    return W1, b1, W2, b2"
   ]
  },
  {
   "cell_type": "markdown",
   "id": "8863a532-4cb9-4740-8fc7-7c6ee4213e1c",
   "metadata": {},
   "source": [
    "### Train the model"
   ]
  },
  {
   "cell_type": "code",
   "execution_count": 19,
   "id": "b845e946-ffdd-4b3f-9fc8-5a9402f8a90e",
   "metadata": {},
   "outputs": [
    {
     "name": "stdout",
     "output_type": "stream",
     "text": [
      "Iteration:  0\n",
      "[3 3 3 ... 6 6 6] [4 0 4 ... 6 4 4]\n",
      "0.09763414634146342\n",
      "Iteration:  20\n",
      "[3 0 2 ... 6 6 6] [4 0 4 ... 6 4 4]\n",
      "0.2253658536585366\n",
      "Iteration:  40\n",
      "[6 0 6 ... 6 7 6] [4 0 4 ... 6 4 4]\n",
      "0.3064878048780488\n",
      "Iteration:  60\n",
      "[6 0 7 ... 6 4 6] [4 0 4 ... 6 4 4]\n",
      "0.37909756097560976\n",
      "Iteration:  80\n",
      "[6 0 4 ... 6 4 9] [4 0 4 ... 6 4 4]\n",
      "0.44851219512195123\n",
      "Iteration:  100\n",
      "[6 0 4 ... 6 4 9] [4 0 4 ... 6 4 4]\n",
      "0.5042926829268293\n",
      "Iteration:  120\n",
      "[6 0 4 ... 6 4 4] [4 0 4 ... 6 4 4]\n",
      "0.5483902439024391\n",
      "Iteration:  140\n",
      "[6 0 4 ... 6 4 4] [4 0 4 ... 6 4 4]\n",
      "0.5859268292682926\n",
      "Iteration:  160\n",
      "[6 0 4 ... 6 4 4] [4 0 4 ... 6 4 4]\n",
      "0.6176585365853658\n",
      "Iteration:  180\n",
      "[6 0 4 ... 6 4 4] [4 0 4 ... 6 4 4]\n",
      "0.6449268292682927\n",
      "Iteration:  200\n",
      "[6 0 4 ... 6 4 4] [4 0 4 ... 6 4 4]\n",
      "0.667\n",
      "Iteration:  220\n",
      "[6 0 4 ... 6 4 4] [4 0 4 ... 6 4 4]\n",
      "0.687219512195122\n",
      "Iteration:  240\n",
      "[6 0 4 ... 6 4 4] [4 0 4 ... 6 4 4]\n",
      "0.7042926829268292\n",
      "Iteration:  260\n",
      "[6 0 4 ... 6 4 4] [4 0 4 ... 6 4 4]\n",
      "0.7216585365853658\n",
      "Iteration:  280\n",
      "[6 0 4 ... 6 4 4] [4 0 4 ... 6 4 4]\n",
      "0.7359512195121951\n",
      "Iteration:  300\n",
      "[6 0 4 ... 6 4 4] [4 0 4 ... 6 4 4]\n",
      "0.7479512195121951\n",
      "Iteration:  320\n",
      "[6 0 4 ... 6 4 4] [4 0 4 ... 6 4 4]\n",
      "0.7597804878048781\n",
      "Iteration:  340\n",
      "[6 0 4 ... 6 4 4] [4 0 4 ... 6 4 4]\n",
      "0.7689024390243903\n",
      "Iteration:  360\n",
      "[6 0 4 ... 6 4 4] [4 0 4 ... 6 4 4]\n",
      "0.7776829268292683\n",
      "Iteration:  380\n",
      "[6 0 4 ... 6 4 4] [4 0 4 ... 6 4 4]\n",
      "0.784609756097561\n",
      "Iteration:  400\n",
      "[6 0 4 ... 6 4 4] [4 0 4 ... 6 4 4]\n",
      "0.7898536585365854\n",
      "Iteration:  420\n",
      "[6 0 4 ... 6 4 4] [4 0 4 ... 6 4 4]\n",
      "0.7960731707317074\n",
      "Iteration:  440\n",
      "[6 0 4 ... 6 4 4] [4 0 4 ... 6 4 4]\n",
      "0.8016341463414635\n",
      "Iteration:  460\n",
      "[6 0 4 ... 6 4 4] [4 0 4 ... 6 4 4]\n",
      "0.8061951219512196\n",
      "Iteration:  480\n",
      "[6 0 4 ... 6 4 4] [4 0 4 ... 6 4 4]\n",
      "0.810439024390244\n",
      "Iteration:  500\n",
      "[6 0 4 ... 6 4 4] [4 0 4 ... 6 4 4]\n",
      "0.8145853658536585\n",
      "Iteration:  520\n",
      "[6 0 4 ... 6 4 4] [4 0 4 ... 6 4 4]\n",
      "0.8190243902439024\n",
      "Iteration:  540\n",
      "[6 0 4 ... 6 4 4] [4 0 4 ... 6 4 4]\n",
      "0.8227317073170731\n",
      "Iteration:  560\n",
      "[6 0 4 ... 6 4 4] [4 0 4 ... 6 4 4]\n",
      "0.8254390243902439\n",
      "Iteration:  580\n",
      "[4 0 4 ... 6 4 4] [4 0 4 ... 6 4 4]\n",
      "0.8284878048780487\n",
      "Iteration:  600\n",
      "[4 0 4 ... 6 4 4] [4 0 4 ... 6 4 4]\n",
      "0.8310243902439024\n",
      "Iteration:  620\n",
      "[4 0 4 ... 6 4 4] [4 0 4 ... 6 4 4]\n",
      "0.8338536585365853\n",
      "Iteration:  640\n",
      "[4 0 4 ... 6 4 4] [4 0 4 ... 6 4 4]\n",
      "0.8359756097560975\n",
      "Iteration:  660\n",
      "[4 0 4 ... 6 4 4] [4 0 4 ... 6 4 4]\n",
      "0.8382439024390244\n",
      "Iteration:  680\n",
      "[4 0 4 ... 6 4 4] [4 0 4 ... 6 4 4]\n",
      "0.8409024390243902\n"
     ]
    }
   ],
   "source": [
    "W1, b1, W2, b2 = gradient_descent(X_train, y_train, 0.10, 700)  # Learning rate of 0.10 and 500 iterations"
   ]
  },
  {
   "cell_type": "markdown",
   "id": "6d2f5eab-7049-4afc-a843-e36e05578392",
   "metadata": {},
   "source": [
    "### Model predictions\n",
    "*Using training dataset*"
   ]
  },
  {
   "cell_type": "code",
   "execution_count": 28,
   "id": "2b0bb111-5f23-4829-8548-fa254ff9f571",
   "metadata": {},
   "outputs": [],
   "source": [
    "def make_predictions(X, W1, b1, W2, b2):\n",
    "    _, _, _, A2 = forward_propogation(W1, b1, W2, b2, X)\n",
    "    predictions = get_predictions(A2)\n",
    "    return predictions\n",
    "\n",
    "def compare_prediction(index, W1, b1, W2, b2):\n",
    "    current_image = X_train[:, index, None]\n",
    "    prediction = make_predictions(X_train[:, index, None], W1, b1, W2, b2)\n",
    "    label = y_train[index]\n",
    "    print(\"Prediction: \", int(prediction))\n",
    "    print(\"Label: \", label)\n",
    "    \n",
    "    current_image = current_image.reshape((28, 28)) * 255\n",
    "    plt.gray()\n",
    "    plt.imshow(current_image, interpolation='nearest')\n",
    "    plt.show()"
   ]
  },
  {
   "cell_type": "code",
   "execution_count": 29,
   "id": "75d60dac-2aa6-41b1-bd31-e5d927b0b212",
   "metadata": {},
   "outputs": [
    {
     "name": "stdout",
     "output_type": "stream",
     "text": [
      "Prediction:  4\n",
      "Label:  4\n"
     ]
    },
    {
     "data": {
      "image/png": "[encoded data removed]",
      "text/plain": [
       "<Figure size 432x288 with 1 Axes>"
      ]
     },
     "metadata": {
      "needs_background": "light"
     },
     "output_type": "display_data"
    },
    {
     "name": "stdout",
     "output_type": "stream",
     "text": [
      "Prediction:  0\n",
      "Label:  0\n"
     ]
    },
    {
     "data": {
      "image/png": "[encoded data removed]",
      "text/plain": [
       "<Figure size 432x288 with 1 Axes>"
      ]
     },
     "metadata": {
      "needs_background": "light"
     },
     "output_type": "display_data"
    },
    {
     "name": "stdout",
     "output_type": "stream",
     "text": [
      "Prediction:  4\n",
      "Label:  4\n"
     ]
    },
    {
     "data": {
      "image/png": "[encoded data removed]",
      "text/plain": [
       "<Figure size 432x288 with 1 Axes>"
      ]
     },
     "metadata": {
      "needs_background": "light"
     },
     "output_type": "display_data"
    },
    {
     "name": "stdout",
     "output_type": "stream",
     "text": [
      "Prediction:  7\n",
      "Label:  7\n"
     ]
    },
    {
     "data": {
      "image/png": "[encoded data removed]",
      "text/plain": [
       "<Figure size 432x288 with 1 Axes>"
      ]
     },
     "metadata": {
      "needs_background": "light"
     },
     "output_type": "display_data"
    }
   ],
   "source": [
    "compare_prediction(0, W1, b1, W2, b2)\n",
    "compare_prediction(1, W1, b1, W2, b2)\n",
    "compare_prediction(2, W1, b1, W2, b2)\n",
    "compare_prediction(3, W1, b1, W2, b2)"
   ]
  },
  {
   "cell_type": "markdown",
   "id": "f504aa53-499d-4615-9b39-b67895cb08a5",
   "metadata": {},
   "source": [
    "### Testing the model\n",
    "*Using testing dataset*"
   ]
  },
  {
   "cell_type": "code",
   "execution_count": 42,
   "id": "2f4c732d-60ba-4847-83b3-ed204aa5a4f9",
   "metadata": {},
   "outputs": [
    {
     "name": "stdout",
     "output_type": "stream",
     "text": [
      "[2 6 7 5 3 1 0 3 2 1 6 3 1 4 1 0 6 2 6 0 0 1 6 7 4 3 7 9 7 0 5 1 8 4 2 5 8\n",
      " 0 7 2 9 0 7 9 4 7 7 5 4 1 9 6 6 2 9 2 7 3 8 5 0 0 8 1 5 6 8 1 1 0 4 7 1 4\n",
      " 5 0 1 4 3 8 1 9 7 8 1 4 0 3 0 3 8 0 7 5 8 8 3 9 7 8 6 1 0 6 4 4 1 9 3 0 2\n",
      " 2 7 0 0 4 2 4 9 3 9 9 1 4 8 9 0 8 1 9 9 7 9 4 2 8 6 7 1 4 4 0 5 8 9 3 7 3\n",
      " 5 3 0 2 5 0 8 3 2 1 2 1 1 6 3 9 3 4 4 6 5 0 6 0 5 6 0 1 1 5 0 8 3 7 6 6 4\n",
      " 0 0 7 4 2 0 5 8 5 2 6 7 6 5 3 8 1 2 4 3 7 5 0 0 5 7 9 6 9 2 7 4 7 1 4 9 9\n",
      " 1 2 7 6 9 6 7 5 4 6 4 3 6 4 8 1 5 5 6 5 9 7 7 4 4 1 7 3 3 3 7 4 4 9 0 6 9\n",
      " 2 9 0 1 1 3 5 5 2 8 8 4 6 8 7 9 9 9 3 7 3 8 4 3 5 8 5 8 3 0 9 9 3 4 6 5 3\n",
      " 0 3 2 8 3 6 3 8 8 0 3 6 2 6 5 7 4 8 6 3 1 5 9 4 2 1 7 0 8 9 0 6 8 2 8 7 5\n",
      " 6 1 9 9 8 0 7 4 2 0 5 7 9 5 9 9 5 4 0 6 0 1 5 8 0 4 2 1 1 2 9 2 7 2 7 4 6\n",
      " 3 8 9 1 8 5 5 0 0 9 0 1 7 5 4 8 7 2 6 5 6 1 2 1 4 1 9 7 2 9 9 7 6 7 6 0 3\n",
      " 1 8 1 1 0 8 7 9 8 7 3 0 1 1 9 9 1 0 8 0 9 6 3 8 4 1 7 8 7 2 2 8 6 9 9 4 1\n",
      " 1 3 9 1 4 4 1 9 1 1 9 2 9 9 7 4 3 6 3 8 5 6 4 2 2 6 9 8 5 5 0 1 9 9 9 9 9\n",
      " 4 3 5 9 4 7 1 7 1 7 7 4 5 0 9 2 2 3 7 6 9 0 1 5 7 1 3 1 0 7 1 2 8 2 8 0 9\n",
      " 9 4 1 5 4 3 0 1 8 5 1 4 9 5 3 3 9 4 0 1 4 2 8 2 3 6 5 3 9 6 8 1 5 3 1 0 9\n",
      " 2 3 5 7 4 0 2 1 9 6 4 8 3 8 8 5 8 8 6 9 8 7 0 8 2 4 8 4 8 6 4 3 1 2 2 9 3\n",
      " 3 7 8 8 1 9 9 7 6 1 1 5 8 8 3 1 0 7 8 1 1 9 1 3 6 6 0 3 0 5 8 7 5 6 8 8 0\n",
      " 8 6 5 2 6 1 1 8 4 2 6 8 1 3 9 3 4 1 9 5 0 1 0 6 2 1 7 3 9 5 5 8 5 3 8 0 8\n",
      " 8 3 9 3 6 7 9 9 6 0 5 0 1 4 8 3 1 0 6 2 4 0 1 2 0 0 5 7 6 5 5 1 6 8 2 5 9\n",
      " 0 1 2 4 6 4 7 2 7 0 3 7 6 7 5 9 8 3 2 3 4 7 9 6 3 5 5 8 7 0 2 5 1 7 0 9 2\n",
      " 8 1 2 2 0 1 6 4 8 4 8 0 7 5 4 2 5 1 5 7 2 0 6 7 2 1 2 9 6 3 4 9 7 6 5 0 7\n",
      " 5 2 9 7 8 8 8 9 3 1 2 3 4 7 2 2 5 3 0 9 5 6 9 9 0 3 7 6 6 1 8 1 6 5 9 4 5\n",
      " 7 1 7 7 3 1 1 4 1 7 5 8 6 4 6 0 5 4 7 6 2 4 0 6 6 0 8 1 7 0 4 8 8 7 7 7 2\n",
      " 2 2 6 6 6 9 3 3 3 1 8 1 2 9 5 2 4 4 7 4 6 9 0 6 4 7 6 5 8 2 7 6 0 2 1 2 3\n",
      " 0 5 7 8 9 8 8 6 7 1 2 1 6 0 2 2 0 0 4 7 6 4 8 4 9 1 5 3 2 6 2 8 7 1 8 9 4\n",
      " 5 6 8 4 4 4 6 4 4 0 8 8 6 9 3 4 0 4 7 9 5 5 4 0 1 4 9 9 1 8 4 1 1 9 6 2 3\n",
      " 4 7 8 7 0 0 3 4 8 7 6 3 6 9 6 6 3 7 9 8 1 1 3 6 8 7 1 8 1 9 3 4 9 9 6 5 1\n",
      " 4] [2 6 7 3 3 1 0 5 1 1 6 3 1 4 1 0 6 3 6 0 0 1 6 7 9 3 7 9 7 0 5 1 3 6 2 5 8\n",
      " 0 7 2 9 0 7 9 4 7 7 8 4 1 9 6 6 2 9 2 7 2 8 8 0 0 8 2 3 6 8 1 1 0 4 7 1 4\n",
      " 0 6 1 4 3 8 8 8 7 9 1 4 0 3 8 3 9 0 7 5 8 4 3 9 7 8 6 1 0 6 4 4 1 5 3 0 2\n",
      " 2 7 0 6 4 2 4 7 3 9 9 1 4 3 9 0 8 1 9 9 7 9 4 2 0 6 7 1 4 4 0 5 8 9 1 7 3\n",
      " 5 8 0 2 5 0 8 3 2 1 3 1 1 6 3 9 3 9 9 6 5 0 6 0 5 6 0 1 1 8 0 8 0 7 6 6 4\n",
      " 0 0 7 4 2 0 6 9 5 2 6 7 6 5 3 8 1 2 7 3 9 5 0 0 5 7 9 4 4 2 7 4 7 1 4 7 7\n",
      " 1 2 7 6 9 6 7 5 4 6 4 3 6 4 8 1 5 5 6 0 9 4 7 4 4 1 7 3 1 3 7 4 4 9 0 6 9\n",
      " 2 9 0 1 1 3 3 5 2 5 8 4 6 8 7 9 9 4 3 7 3 3 4 3 5 8 5 8 3 0 9 9 8 4 0 0 3\n",
      " 0 3 2 3 3 6 2 8 8 0 3 6 2 8 5 7 4 3 6 3 1 8 9 4 2 1 7 0 7 9 0 4 8 2 8 7 5\n",
      " 6 3 9 9 2 0 7 4 2 0 5 7 7 5 9 7 5 4 0 6 0 1 5 8 0 4 2 1 1 2 9 8 7 2 7 4 6\n",
      " 5 8 9 1 3 5 5 0 5 7 0 1 7 5 4 8 7 2 6 5 6 7 2 1 4 1 9 7 2 7 9 7 6 7 6 0 3\n",
      " 1 8 1 1 0 8 7 9 8 7 3 0 1 1 7 9 1 0 8 0 9 6 3 8 4 1 7 8 7 3 2 8 6 9 9 4 1\n",
      " 1 3 9 8 4 4 1 9 1 1 9 2 9 9 7 4 2 6 3 3 5 6 4 2 2 6 9 8 9 8 0 1 9 9 9 9 9\n",
      " 4 2 5 9 4 7 1 7 1 7 9 4 5 0 9 7 2 3 7 6 9 0 1 9 7 1 3 1 0 7 1 2 2 2 3 6 9\n",
      " 9 4 1 5 4 3 0 1 5 5 1 4 9 5 3 8 7 4 0 1 4 2 8 2 3 6 5 5 9 6 8 1 0 5 1 0 9\n",
      " 7 8 8 7 4 0 2 1 5 6 4 8 3 8 8 5 3 8 6 9 9 7 0 8 8 4 8 4 8 6 4 3 1 2 6 7 3\n",
      " 3 7 8 3 2 9 9 7 6 2 1 8 2 8 3 1 0 7 5 1 1 7 1 3 6 6 0 3 0 5 8 7 5 6 8 8 0\n",
      " 8 6 5 2 6 1 1 8 4 2 6 8 1 3 7 3 4 1 9 5 0 6 2 6 2 1 7 3 9 5 5 8 5 8 8 0 8\n",
      " 8 3 9 3 6 7 9 4 6 0 5 0 1 9 8 3 1 0 6 2 4 0 1 2 0 0 3 7 6 5 0 1 6 2 2 5 7\n",
      " 6 3 2 4 6 4 7 2 7 0 3 7 6 7 9 9 4 3 2 1 4 7 9 6 3 3 0 8 2 0 6 5 1 7 0 8 2\n",
      " 8 1 2 2 0 1 6 4 8 4 3 0 7 0 9 2 5 1 5 7 2 5 6 7 2 1 3 3 6 3 4 5 8 6 5 0 7\n",
      " 5 2 9 9 8 8 8 9 3 1 2 3 4 7 2 2 5 3 0 9 5 6 9 8 0 3 7 5 6 1 3 1 6 8 9 4 5\n",
      " 7 1 9 7 3 1 1 4 2 7 8 8 2 4 6 0 5 5 7 6 2 4 0 6 6 0 8 1 7 0 4 5 4 7 7 7 2\n",
      " 2 2 6 6 6 9 3 5 3 1 8 1 2 9 5 2 4 4 8 4 6 9 2 6 7 3 6 5 8 8 7 6 0 2 1 2 3\n",
      " 0 5 7 4 9 8 3 6 7 2 2 1 2 0 2 2 0 0 4 7 6 4 8 4 9 1 3 5 2 6 8 8 0 2 8 9 2\n",
      " 5 6 8 4 4 4 6 4 4 0 5 8 6 9 2 4 0 4 9 4 5 6 4 0 1 4 4 9 1 8 5 1 1 9 6 8 5\n",
      " 4 7 8 7 0 0 3 4 8 2 6 3 6 9 6 6 3 7 9 8 1 1 3 6 8 7 1 8 1 9 3 3 5 9 6 5 1\n",
      " 4]\n",
      "\n",
      "Model Accuracy: 0.828\n"
     ]
    }
   ],
   "source": [
    "test_predictions = make_predictions(X_test, W1, b1, W2, b2)\n",
    "print(\"\\nModel Accuracy: \" + str(get_accuracy(test_predictions, y_test)))"
   ]
  },
  {
   "cell_type": "code",
   "execution_count": null,
   "id": "7890cbcc-7fba-454d-b52a-af31556484f6",
   "metadata": {},
   "outputs": [],
   "source": []
  }
 ],
 "metadata": {
  "kernelspec": {
   "display_name": "Python 3 (ipykernel)",
   "language": "python",
   "name": "python3"
  },
  "language_info": {
   "codemirror_mode": {
    "name": "ipython",
    "version": 3
   },
   "file_extension": ".py",
   "mimetype": "text/x-python",
   "name": "python",
   "nbconvert_exporter": "python",
   "pygments_lexer": "ipython3",
   "version": "3.9.12"
  }
 },
 "nbformat": 4,
 "nbformat_minor": 5
}
